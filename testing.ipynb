{
 "cells": [
  {
   "cell_type": "markdown",
   "metadata": {},
   "source": [
    "# Testing Computational Essays\n",
    "\n",
    "* ## Folks often use notebooks to test a computational hypothesis, and never use them again.\n",
    "* ## A computational essay is crafted for reuse.  \n",
    "* ## A successful essay about a hypothesis can calibrate assumptions while iterating."
   ]
  },
  {
   "cell_type": "code",
   "execution_count": 1,
   "metadata": {},
   "outputs": [
    {
     "data": {
      "text/html": [
       "<style>\n",
       ".jp-RenderedHTMLCommon pre code {\n",
       "    text-decoration: line-through wavy;\n",
       "}\n",
       ".jp-RenderedHTMLCommon pre code:hover {\n",
       "    text-decoration: none;\n",
       "    \n",
       "}\n",
       ".jp-Placeholder-content .jp-MoreHorizIcon {\n",
       "    background-size: 32px;\n",
       "}\n",
       "\n",
       "@import url(\"https://cdn.jsdelivr.net/npm/firacode@1.205.0/distr/fira_code.css\")\n",
       "\n",
       ".CodeMirror * {\n",
       "  font-family: 'Fira Code' !important; \n",
       "  font-variant-ligatures: initial !important;\n",
       "}\n",
       "\n",
       ".cm-string {\n",
       "    font-variant-ligatures: none;\n",
       "}\n",
       "</style><style>\n",
       ".jp-mod-presentationMode .jp-SideBar,\n",
       ".jp-mod-presentationMode #jp-top-panel {\n",
       "    opacity: 0.0;\n",
       "    transition: all 0.2s;\n",
       "}\n",
       ".jp-mod-presentationMode .jp-SideBar:hover,\n",
       ".jp-mod-presentationMode #jp-top-panel:hover {\n",
       "    opacity: 0.9;\n",
       "    transition: all 0.2s;\n",
       "}\n",
       "\n",
       "</style><style>\n",
       ".jp-mod-presentationMode.jp-ApplicationShell,\n",
       ".jp-mod-presentationMode .p-TabBar-content{\n",
       "    background-color: var(--jp-layout-color0);\n",
       "}\n",
       "</style><style>\n",
       ".jp-mod-presentationMode .p-DockPanel-widget,\n",
       ".jp-mod-presentationMode #jp-left-stack{\n",
       "    border-color: transparent;\n",
       "}\n",
       ".jp-mod-presentationMode .jp-Toolbar-item,\n",
       ".jp-mod-presentationMode .jp-Toolbar {\n",
       "    opacity: 0.1;\n",
       "    transition: all 0.2s;\n",
       "}\n",
       ".jp-mod-presentationMode .jp-Toolbar-item:hover,\n",
       ".jp-mod-presentationMode .jp-Toolbar:hover {\n",
       "    opacity: 0.9;\n",
       "    transition: all 0.2s;\n",
       "}\n",
       "\n",
       "</style><style>\n",
       ".jp-mod-presentationMode .jp-OutputPrompt,\n",
       ".jp-mod-presentationMode .jp-InputPrompt {\n",
       "    max-width: 2rem !important;\n",
       "    transition: all 0.2s;\n",
       "}\n",
       ".jp-mod-presentationMode .jp-Cell.jp-mod-selected .jp-OutputPrompt,\n",
       ".jp-mod-presentationMode .jp-Cell.jp-mod-selected .jp-InputPrompt,\n",
       ".jp-mod-presentationMode .jp-Cell:hover .jp-OutputPrompt,\n",
       ".jp-mod-presentationMode .jp-Cell:hover .jp-InputPrompt {\n",
       "    max-width: 10rem !important;\n",
       "    transition: all 0.2s;\n",
       "}\n",
       "\n",
       ".jp-mod-presentationMode .jp-Cell {\n",
       "    margin-bottom: 5rem;\n",
       "}\n",
       "\n",
       ".jp-mod-presentationMode hr {\n",
       "    opacity: 0.1;\n",
       "}\n",
       "</style>\n",
       "    <style>\n",
       "    .jp-TableOfContents-content h1, \n",
       "    .jp-TableOfContents-content h2 {\n",
       "        margin-bottom: var(--jp-ui-font-size0)\n",
       "    }\n",
       "    </style>\n",
       "    \n",
       "    <style>\n",
       "    .jp-mod-presentationMode {\n",
       "        --jp-content-heading-line-height: 1.25 !important;\n",
       "    }\n",
       "    </style>\n",
       "    "
      ],
      "text/plain": [
       "<IPython.core.display.HTML object>"
      ]
     },
     "metadata": {},
     "output_type": "display_data"
    }
   ],
   "source": [
    "    with __import__('importnb').Notebook(): from utils import *\n",
    "    from IPython import get_ipython"
   ]
  },
  {
   "cell_type": "markdown",
   "metadata": {},
   "source": [
    "<hr/><hr/><hr/><hr/><hr/><hr/><hr/><hr/><hr/><hr/><hr/><hr/><hr/><hr/><hr/>\n",
    "\n",
    "> # What is the hardest test to write?\n",
    "\n",
    "<hr/><hr/><hr/><hr/><hr/><hr/><hr/><hr/><hr/><hr/><hr/><hr/><hr/><hr/><hr/>"
   ]
  },
  {
   "cell_type": "markdown",
   "metadata": {},
   "source": [
    "## Restart and run all is a test.\n",
    "\n",
    "If a computational essay is composed to __restart and run all__ then it can be used a source code in packages, modules, testing, and documentation."
   ]
  },
  {
   "cell_type": "markdown",
   "metadata": {},
   "source": [
    "### nbconvert our old friend\n",
    "\n",
    "`nbconvert`, a core package from jupyter,  can execute notebooks."
   ]
  },
  {
   "cell_type": "markdown",
   "metadata": {},
   "source": [
    "    !jupyter nbconvert --to python --execute --Execute.kernel_name=python3 --allow-errors interactive.ipynb"
   ]
  },
  {
   "cell_type": "markdown",
   "metadata": {},
   "source": [
    "### Python imports\n",
    "\n",
    "Converting a notebook to python means it may be imported as a module."
   ]
  },
  {
   "cell_type": "markdown",
   "metadata": {},
   "source": [
    "    with λ.IPython.utils.capture.capture_output()() as out:\n",
    "        import interactive"
   ]
  },
  {
   "cell_type": "markdown",
   "metadata": {},
   "source": [
    "    print(out.stdout) or out.show()"
   ]
  },
  {
   "cell_type": "markdown",
   "metadata": {},
   "source": [
    "# Formal Testing\n",
    "\n",
    "__Restart and Run All__ is a sufficient condition for a test.  They are best used with __formal testing__ tools."
   ]
  },
  {
   "cell_type": "code",
   "execution_count": 2,
   "metadata": {},
   "outputs": [
    {
     "data": {
      "text/html": [
       "\n",
       "        <iframe\n",
       "            width=\"100%\"\n",
       "            height=\"800\"\n",
       "            src=\"http://docs.python-guide.org/en/latest/writing/tests/\"\n",
       "            frameborder=\"0\"\n",
       "            allowfullscreen\n",
       "        ></iframe>\n",
       "        "
      ],
      "text/plain": [
       "<IPython.lib.display.IFrame at 0x17dae7e2cc0>"
      ]
     },
     "execution_count": 2,
     "metadata": {},
     "output_type": "execute_result"
    }
   ],
   "source": [
    "iframe(\"\"\"http://docs.python-guide.org/en/latest/writing/tests/\"\"\")"
   ]
  },
  {
   "cell_type": "markdown",
   "metadata": {},
   "source": [
    "    %%file doctestme.py\n",
    "    \"\"\"Doctests are a part of Python.  They execute code that starts with >>>.  \n",
    "    Doctests test an docstring in modules, functions, or classes.  I ❤️ the 💩 out of them.\n",
    "    \n",
    "    >>> assert \"❤️💩\"\n",
    "    \"\"\""
   ]
  },
  {
   "cell_type": "markdown",
   "metadata": {},
   "source": [
    "# doctest places tests in [docstrings](https://www.python.org/dev/peps/pep-0257/)\n",
    "\n",
    "In docstrings, `>>>` indicates code that should be evaluated.  `doctest` allows an author include simple tests in computational essay.  \n",
    "\n",
    "* Does the data exist?\n",
    "* Is the directory correct?\n",
    "* Do all of the dependencies exist?\n",
    "* `...`\n",
    "\n",
    "`doctest`s provide value during interactive computing because they encourage best practices writing docstrings.\n",
    "\n",
    ">>> The [`__test__`](https://docs.python.org/3/library/doctest.html#which-docstrings-are-examined) attribute is a cool feature of doctest.\n"
   ]
  },
  {
   "cell_type": "markdown",
   "metadata": {},
   "source": [
    "    !python -m doctest --verbose doctestme.py"
   ]
  },
  {
   "cell_type": "markdown",
   "metadata": {},
   "source": [
    "### Doctests encourage documentation"
   ]
  },
  {
   "cell_type": "markdown",
   "metadata": {},
   "source": [
    "    def this_is_a_function():\n",
    "        \"\"\"This function is for a presentation so it is dumb AF.\n",
    "        \n",
    "        >>> assert True\n",
    "        \"\"\""
   ]
  },
  {
   "cell_type": "markdown",
   "metadata": {},
   "source": [
    "### Doctests run in the notebook."
   ]
  },
  {
   "cell_type": "markdown",
   "metadata": {},
   "source": [
    "    import doctest\n",
    "    doctest.testmod()"
   ]
  },
  {
   "cell_type": "markdown",
   "metadata": {},
   "source": [
    "    %%file pytestme.py\n",
    "    def test_me():\n",
    "        assert True"
   ]
  },
  {
   "cell_type": "markdown",
   "metadata": {},
   "source": [
    "# [pytest](https://docs.pytest.org/) is the 💩\n",
    "\n",
    "[pytest](https://docs.pytest.org/) is an extensible testing framework in python that encourages good testing practices."
   ]
  },
  {
   "cell_type": "markdown",
   "metadata": {},
   "source": [
    "    !pytest pytestme.py"
   ]
  },
  {
   "cell_type": "markdown",
   "metadata": {},
   "source": [
    "## Projects that test notebooks\n",
    "\n",
    "* [importnb](https://github.com/deathbeds/importnb) _tests notebooks as if they were python modules with pytest_\n",
    "* [pytest-ipynb](https://github.com/zonca/pytest-ipynb/tree/master/pytest_ipynb)\n",
    "* [nbval](https://github.com/computationalmodelling/nbval)"
   ]
  },
  {
   "cell_type": "markdown",
   "metadata": {},
   "source": [
    "# The value of testing notebooks\n",
    "\n",
    "* ## Notebooks can continuously validate previous computational hypotheses.\n",
    "* ## Tests can provide rich documentation.\n",
    "* ## Code does not have to be re-written to another language.\n",
    "* ## Improve documentation and sharing habits.\n",
    "* ## Notebooks will be bounded by concise units of thought."
   ]
  },
  {
   "cell_type": "markdown",
   "metadata": {},
   "source": [
    "# <big>R</big>eadability 🤓\n",
    "\n",
    "All Machines\n",
    "\n",
    "# <big>R</big>eusability 👩‍💻      👨‍💻\n",
    "\n",
    "A Few Machines\n",
    "\n",
    "# <big>R</big>eproducibility [👩‍🚀](https://github.com/chrislgarry/Apollo-11)[👨‍🚀](http://vimeo.com/28199826)\n",
    "\n",
    "Many Machines\n"
   ]
  },
  {
   "cell_type": "markdown",
   "metadata": {},
   "source": [
    "# Notebooks are a medium for sharing."
   ]
  },
  {
   "cell_type": "markdown",
   "metadata": {},
   "source": [
    "## [github](https://github.com/deathbeds/importnb/blob/master/readme.ipynb)\n",
    "\n",
    "Render notebooks without anything fun 😫.\n",
    "\n",
    "## [nbviewer](http://nbviewer.jupyter.org/github/deathbeds/wtf/blob/master/readme.ipynb)\n",
    "\n",
    "Render notebooks with rich display objects.\n",
    "\n",
    "## [mybinder](https://mybinder.org)\n",
    "\n",
    "[![Binder](https://mybinder.org/badge.svg)](https://mybinder.org/v2/gh/deathbeds/wtf/master?filepath=readme.ipynb)\n",
    "\n",
    "### [jupyterhub](https://github.com/jupyterhub/jupyterhub)\n"
   ]
  },
  {
   "cell_type": "markdown",
   "metadata": {},
   "source": [
    "# [importnb](https://github.com/deathbeds/importnb\")\n",
    "\n",
    "> ### We use [`test_notebook_dir.ipynb`](test_notebook_dir.ipynb)\n",
    "\n",
    "Importnb is a project from deathbeds that treats notebooks as python objects.  Importnb is useful for:\n",
    "\n",
    "* packaging\n",
    "* testing\n",
    "* notebook reuse"
   ]
  },
  {
   "cell_type": "markdown",
   "metadata": {},
   "source": [
    "    from importnb import Notebook, reload\n",
    "    with Notebook(): \n",
    "        import test_notebook_dir as nb"
   ]
  },
  {
   "cell_type": "markdown",
   "metadata": {},
   "source": [
    "`assert` will stop a program if its argument is false, and you can give a reason."
   ]
  },
  {
   "cell_type": "markdown",
   "metadata": {},
   "source": [
    "    assert nb.__file__.endswith('.ipynb'), \"\"\"The imported file has the wrong extension.\"\"\""
   ]
  },
  {
   "cell_type": "markdown",
   "metadata": {},
   "source": [
    "> ☝️ This is a test"
   ]
  },
  {
   "cell_type": "markdown",
   "metadata": {},
   "source": [
    "##  doctest importnb\n",
    "\n",
    "importnb has a module "
   ]
  },
  {
   "cell_type": "markdown",
   "metadata": {},
   "source": [
    "    import doctest\n",
    "    doctest.testmod(nb)"
   ]
  },
  {
   "cell_type": "markdown",
   "metadata": {},
   "source": [
    "> ### Open inspector to show the module docstring."
   ]
  },
  {
   "cell_type": "markdown",
   "metadata": {},
   "source": [
    "##  pytest importnb\n",
    "\n",
    "`pytest` looks for python modules that start with the `test_*`."
   ]
  },
  {
   "cell_type": "markdown",
   "metadata": {},
   "source": [
    "    !pytest"
   ]
  },
  {
   "cell_type": "markdown",
   "metadata": {},
   "source": [
    "## Notebook modules are reloadable.\n",
    "\n",
    "Like normal python modules, notebooks can be interactively updated and reloaded."
   ]
  },
  {
   "cell_type": "markdown",
   "metadata": {},
   "source": [
    "    with Notebook():\n",
    "        reload(nb)"
   ]
  },
  {
   "cell_type": "markdown",
   "metadata": {},
   "source": [
    "    !source activate p6 && ipython -m importnb -- test_notebook_dir.ipynb --help"
   ]
  },
  {
   "cell_type": "markdown",
   "metadata": {},
   "source": [
    "# Take Away\n",
    "\n",
    "## Write notebooks.\n",
    "## Write notebooks with the intent to reuse them.\n",
    "## Write to use tools that check your hypotheses.\n",
    "## Write narrative.\n",
    "## Write code.\n",
    "## Write.\n",
    "## Write notebooks you want to read."
   ]
  },
  {
   "cell_type": "markdown",
   "metadata": {},
   "source": [
    "## [Interactivity 🤛](interactive.ipynb) 🤖 [🤜 Readme](readme.ipynb#Deathbeds)"
   ]
  }
 ],
 "metadata": {
  "kernelspec": {
   "display_name": "Python 3",
   "language": "python",
   "name": "python3"
  },
  "language_info": {
   "codemirror_mode": {
    "name": "ipython",
    "version": 3
   },
   "file_extension": ".py",
   "mimetype": "text/x-python",
   "name": "python",
   "nbconvert_exporter": "python",
   "pygments_lexer": "ipython3",
   "version": "3.6.5"
  }
 },
 "nbformat": 4,
 "nbformat_minor": 2
}
