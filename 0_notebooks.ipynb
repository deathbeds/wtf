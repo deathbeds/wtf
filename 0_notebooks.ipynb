{
 "cells": [
  {
   "cell_type": "markdown",
   "metadata": {},
   "source": [
    "# [The Medium is the Message](https://en.wikipedia.org/wiki/The_medium_is_the_message)\n",
    "\n",
    "> For McLuhan, it was the medium itself that shaped and controlled \"the scale and form of human association and action\".\n",
    "\n",
    "![](https://media.winnipegfreepress.com/images/648*389/2561532.jpg)"
   ]
  },
  {
   "cell_type": "markdown",
   "metadata": {},
   "source": [
    "<hr/><hr/><hr/><hr/><hr/><hr/><hr/><hr/><hr/><hr/><hr/><hr/><hr/><hr/><hr/><hr/><hr/>\n",
    "\n",
    "# Who is familiar with notebooks?\n",
    "\n",
    "<hr/><hr/><hr/><hr/><hr/><hr/><hr/><hr/><hr/><hr/><hr/><hr/><hr/><hr/><hr/><hr/><hr/>"
   ]
  },
  {
   "cell_type": "code",
   "execution_count": 1,
   "metadata": {},
   "outputs": [
    {
     "data": {
      "text/html": [
       "<style>\n",
       ".jp-RenderedHTMLCommon pre code {\n",
       "    opacity: 0.25;\n",
       "}\n",
       ".jp-RenderedHTMLCommon pre code:hover {\n",
       "    transition: opacity 0.2s;\n",
       "    opacity: 1;\n",
       "    \n",
       "}\n",
       ".jp-Placeholder-content .jp-MoreHorizIcon {\n",
       "    background-size: 32px;\n",
       "}\n",
       "\n",
       "@import url(\"https://cdn.jsdelivr.net/npm/firacode@1.205.0/distr/fira_code.css\")\n",
       "\n",
       ".CodeMirror * {\n",
       "  font-family: 'Fira Code' !important; \n",
       "  font-variant-ligatures: initial !important;\n",
       "}\n",
       "\n",
       ".cm-string {\n",
       "    font-variant-ligatures: none;\n",
       "}\n",
       "</style><style>\n",
       ".jp-mod-presentationMode .jp-SideBar,\n",
       ".jp-mod-presentationMode #jp-top-panel {\n",
       "    opacity: 0.0;\n",
       "    transition: all 0.2s;\n",
       "}\n",
       ".jp-mod-presentationMode .jp-SideBar:hover,\n",
       ".jp-mod-presentationMode #jp-top-panel:hover {\n",
       "    opacity: 0.9;\n",
       "    transition: all 0.2s;\n",
       "}\n",
       "\n",
       "</style><style>\n",
       ".jp-mod-presentationMode.jp-ApplicationShell,\n",
       ".jp-mod-presentationMode .p-TabBar-content{\n",
       "    background-color: var(--jp-layout-color0);\n",
       "}\n",
       "</style><style>\n",
       ".jp-mod-presentationMode .p-DockPanel-widget,\n",
       ".jp-mod-presentationMode #jp-left-stack{\n",
       "    border-color: transparent;\n",
       "}\n",
       ".jp-mod-presentationMode .jp-Toolbar-item,\n",
       ".jp-mod-presentationMode .jp-Toolbar {\n",
       "    opacity: 0.1;\n",
       "    transition: all 0.2s;\n",
       "}\n",
       ".jp-mod-presentationMode .jp-Toolbar-item:hover,\n",
       ".jp-mod-presentationMode .jp-Toolbar:hover {\n",
       "    opacity: 0.9;\n",
       "    transition: all 0.2s;\n",
       "}\n",
       "\n",
       "</style><style>\n",
       ".jp-mod-presentationMode .jp-OutputPrompt,\n",
       ".jp-mod-presentationMode .jp-InputPrompt {\n",
       "    max-width: 2rem !important;\n",
       "    transition: all 0.2s;\n",
       "}\n",
       ".jp-mod-presentationMode .jp-Cell.jp-mod-selected .jp-OutputPrompt,\n",
       ".jp-mod-presentationMode .jp-Cell.jp-mod-selected .jp-InputPrompt,\n",
       ".jp-mod-presentationMode .jp-Cell:hover .jp-OutputPrompt,\n",
       ".jp-mod-presentationMode .jp-Cell:hover .jp-InputPrompt {\n",
       "    max-width: 10rem !important;\n",
       "    transition: all 0.2s;\n",
       "}\n",
       "\n",
       ".jp-mod-presentationMode .jp-Cell {\n",
       "    margin-bottom: 5rem;\n",
       "}\n",
       "\n",
       ".jp-mod-presentationMode hr {\n",
       "    opacity: 0.1;\n",
       "}\n",
       "</style>\n",
       "    <style>\n",
       "    .jp-TableOfContents-content h1, \n",
       "    .jp-TableOfContents-content h2 {\n",
       "        margin-bottom: var(--jp-ui-font-size0)\n",
       "    }\n",
       "    </style>\n",
       "    \n",
       "    <style>\n",
       "    .jp-mod-presentationMode {\n",
       "        --jp-content-heading-line-height: 1.25 !important;\n",
       "    }\n",
       "    </style>\n",
       "    "
      ],
      "text/plain": [
       "<IPython.core.display.HTML object>"
      ]
     },
     "metadata": {},
     "output_type": "display_data"
    }
   ],
   "source": [
    "from .utils import *"
   ]
  },
  {
   "cell_type": "markdown",
   "metadata": {},
   "source": [
    "<hr/><hr/><hr/><hr/><hr/><hr/><hr/><hr/><hr/><hr/><hr/><hr/><hr/><hr/><hr/><hr/><hr/>\n",
    "\n",
    "# Who writes python in notebooks?\n",
    "\n",
    "<hr/><hr/><hr/><hr/><hr/><hr/><hr/><hr/><hr/><hr/><hr/><hr/><hr/><hr/><hr/><hr/><hr/>"
   ]
  },
  {
   "cell_type": "markdown",
   "metadata": {},
   "source": [
    "# The lab notebook was the medium "
   ]
  },
  {
   "cell_type": "code",
   "execution_count": 2,
   "metadata": {},
   "outputs": [
    {
     "data": {
      "application/vnd.jupyter.widget-view+json": {
       "model_id": "de0dcc567b4d49bf89b1192000212baa",
       "version_major": 2,
       "version_minor": 0
      },
      "text/plain": [
       "VBox(children=(Box(children=(Output(layout=Layout(display='flex', flex='1', min_width='200px')),), layout=Layo…"
      ]
     },
     "metadata": {},
     "output_type": "display_data"
    }
   ],
   "source": [
    "\"\"\"- - text/html: {src: \"https://en.m.wikipedia.org/wiki/Lab_notebook\", width: 1000}\n",
    "- - text/html: https://sites.dartmouth.edu/library/2014/11/14/ciphering-books-2/\n",
    "  - text/html: https://anaconda.org/nbcio/data-in-thomas-jefferson-s-garden-notebook/notebook\n",
    "  - text/html: http://www.openculture.com/2016/03/3900-pages-of-paul-klees-personal-notebooks-are-now-online.html\"\"\""
   ]
  },
  {
   "cell_type": "markdown",
   "metadata": {},
   "source": [
    "> Inspiration figures in color theory [Josef Albers](https://en.wikipedia.org/wiki/Josef_Albers) & [Johannes Itten](https://en.wikipedia.org/wiki/Johannes_Itten) from the [~~Staatliches~~ Bauhaus movement](https://en.wikipedia.org/wiki/Bauhaus)."
   ]
  },
  {
   "cell_type": "code",
   "execution_count": 3,
   "metadata": {},
   "outputs": [
    {
     "data": {
      "application/vnd.jupyter.widget-view+json": {
       "model_id": "26a7b34ab9274e8aa5302cda64574da1",
       "version_major": 2,
       "version_minor": 0
      },
      "text/plain": [
       "VBox(children=(Box(children=(Output(layout=Layout(display='flex', flex='1', min_width='200px')), Output(layout…"
      ]
     },
     "metadata": {},
     "output_type": "display_data"
    }
   ],
   "source": [
    "\"\"\"- - http://printingcode.runemadsen.com/lecture-color/#.html\n",
    "  - >\n",
    "        ### [The first computer bug is recorded in a lab notebook](https://commons.wikimedia.org/wiki/File:H96566k.jpg).\n",
    "\n",
    "        _Engineering successes in computer science are recently influencing approaches to the scientific methods._\n",
    "\n",
    "        [![](https://upload.wikimedia.org/wikipedia/commons/8/8a/H96566k.jpg)](https://commons.wikimedia.org/wiki/File:H96566k.jpg)\n",
    "- - text/html: {src: \"https://www.high.org/exhibition/basquiat-notebooks/\", width: 1000}\"\"\""
   ]
  },
  {
   "cell_type": "markdown",
   "metadata": {},
   "source": [
    "# Modern notebooks are a new medium\n",
    "\n",
    "There is too much data to record on dead💀🌳trees."
   ]
  },
  {
   "cell_type": "markdown",
   "metadata": {},
   "source": [
    "## Notebook interfaces have a long history in interactive computing."
   ]
  },
  {
   "cell_type": "code",
   "execution_count": 4,
   "metadata": {},
   "outputs": [
    {
     "data": {
      "application/vnd.jupyter.widget-view+json": {
       "model_id": "18ed378f51074112ade38d3a610e2a9d",
       "version_major": 2,
       "version_minor": 0
      },
      "text/plain": [
       "VBox(children=(Box(children=(Output(layout=Layout(display='flex', flex='1', min_width='200px')),), layout=Layo…"
      ]
     },
     "metadata": {},
     "output_type": "display_data"
    }
   ],
   "source": [
    "\"\"\"- - |\n",
    "        ### Mother of all demos: 1968\n",
    "        > _So in my office I have a console like this, and there are 12 others that are computer supplies.  And we try now-a-days to do our daily work on here.  So this characterizes the way I could sit here and look at a __clear blank piece of paper__, that's the way I start many projects._\n",
    "        >\n",
    "        > Doug Englebart - [_Mother of all demos_](https://github.com/atduskgreg/MoAD-Transcript)\n",
    "        \n",
    "        [![](https://upload.wikimedia.org/wikipedia/commons/c/cc/SRI_Computer_Mouse.jpg)](https://commons.wikimedia.org/wiki/File:SRI_Computer_Mouse.jpg)\n",
    "\n",
    "- - \"### Visicalc: 1979\"\n",
    "\n",
    "  - text/html: https://en.m.wikipedia.org/wiki/VisiCalc\"\"\""
   ]
  },
  {
   "cell_type": "markdown",
   "metadata": {},
   "source": [
    "### Mathematica Notebook: 1988"
   ]
  },
  {
   "cell_type": "code",
   "execution_count": 5,
   "metadata": {},
   "outputs": [
    {
     "data": {
      "application/vnd.jupyter.widget-view+json": {
       "model_id": "170acb4f744f4f27be2a687548350f10",
       "version_major": 2,
       "version_minor": 0
      },
      "text/plain": [
       "VBox(children=(Box(children=(Output(layout=Layout(display='flex', flex='1', min_width='200px')), Output(layout…"
      ]
     },
     "metadata": {},
     "output_type": "display_data"
    }
   ],
   "source": [
    "    \"\"\"- - text/html: https://patentimages.storage.googleapis.com/83/a7/4c/45eb89984d5a96/US8407580.pdf#page=4\n",
    "      - http://reference.wolfram.com/language/tutorial/UsingANotebookInterface.html\"\"\""
   ]
  },
  {
   "cell_type": "code",
   "execution_count": 6,
   "metadata": {},
   "outputs": [
    {
     "data": {
      "application/vnd.jupyter.widget-view+json": {
       "model_id": "42c85ee49c424dabbfe29969c0b9b9e9",
       "version_major": 2,
       "version_minor": 0
      },
      "text/plain": [
       "VBox(children=(Box(children=(Output(layout=Layout(display='flex', flex='1', min_width='200px')), Output(layout…"
      ]
     },
     "metadata": {},
     "output_type": "display_data"
    }
   ],
   "source": [
    "\"\"\"- - \"### CoCalc (was SageMathCloud): 2010\"\n",
    "  - https://cocalc.com/#.html\n",
    "\n",
    "- - \"http://jupyter.org/#.html\"\n",
    "  - \"### Jupyter (was IPython) Notebook: 2011\" \n",
    "  \n",
    "\n",
    "- - \"### Apache Zeppelin: 2016\"\n",
    "  - https://zeppelin.apache.org/#.html\"\"\"\n"
   ]
  },
  {
   "cell_type": "code",
   "execution_count": 7,
   "metadata": {},
   "outputs": [],
   "source": [
    "λ.pandas.set_option('display.max_colwidth', -1)()\n",
    "\n",
    "acm_awards = (\n",
    "    λ.pandas.read_html()\n",
    "    .first()\n",
    "    (\"\"\"https://en.wikipedia.org/wiki/ACM_Software_System_Award\"\"\")\n",
    "    .pipe(lambda df: df.rename(columns=dict(zip(range(len(df.columns)), df.iloc[0]))).iloc[1:]).set_index('Year')\n",
    ")"
   ]
  },
  {
   "cell_type": "code",
   "execution_count": 8,
   "metadata": {},
   "outputs": [],
   "source": [
    "_trends_ = \"https://cdn.theatlantic.com/assets/media/img/posts/2018/03/image_2-1/cf588dbcd.png\""
   ]
  },
  {
   "cell_type": "code",
   "execution_count": 9,
   "metadata": {},
   "outputs": [
    {
     "data": {
      "application/vnd.jupyter.widget-view+json": {
       "model_id": "07dc897d3ee442ecbea568ea625eddf3",
       "version_major": 2,
       "version_minor": 0
      },
      "text/plain": [
       "VBox(children=(Box(children=(Output(layout=Layout(display='flex', flex='1', min_width='200px')), Output(layout…"
      ]
     },
     "metadata": {},
     "output_type": "display_data"
    }
   ],
   "source": [
    "f\"\"\"- - '{''.join(acm_awards.iloc[::-1].set_index('Project', append=True).to_html().splitlines())}'\n",
    "  - |\n",
    "        ## [Association of Computing Machinery Software System Award](https://en.wikipedia.org/wiki/ACM_Software_System_Award)\n",
    "\n",
    "        > The ACM Software System Award is an annual award that honors people or an organization \"for developing a software system that has had a lasting influence, reflected in contributions to concepts, in commercial acceptance, or both\". It is awarded by the Association for Computing Machinery (ACM) since 1983\n",
    "        \n",
    "        ![]({_trends_})\n",
    "        \n",
    "\"\"\""
   ]
  },
  {
   "cell_type": "markdown",
   "metadata": {},
   "source": [
    "## Notebooks in mainstream scientific media"
   ]
  },
  {
   "cell_type": "code",
   "execution_count": 10,
   "metadata": {},
   "outputs": [
    {
     "data": {
      "application/vnd.jupyter.widget-view+json": {
       "model_id": "5cd63537d95d4fbaac97b02ee88ff242",
       "version_major": 2,
       "version_minor": 0
      },
      "text/plain": [
       "VBox(children=(Box(children=(Output(layout=Layout(display='flex', flex='1', min_width='200px')), Output(layout…"
      ]
     },
     "metadata": {},
     "output_type": "display_data"
    }
   ],
   "source": [
    "\"\"\"- - text/html: http://nbviewer.jupyter.org/github/robertodealmeida/notebooks/blob/master/scientific_american/Scientific%20American%20graph.ipynb\n",
    "  - text/html: http://nbviewer.jupyter.org/github/minrk/ligo-binder/blob/master/index.ipynb\n",
    "- - text/html: \n",
    "        src: https://www.theatlantic.com/science/archive/2018/04/the-scientific-paper-is-obsolete/556676/\n",
    "        width: 1200\n",
    "\"\"\""
   ]
  },
  {
   "cell_type": "code",
   "execution_count": 11,
   "metadata": {},
   "outputs": [],
   "source": [
    "_nbestimate_ = \"\"\"http://nbviewer.jupyter.org/github/parente/nbestimate/blob/master/estimate.ipynb\"\"\""
   ]
  },
  {
   "cell_type": "markdown",
   "metadata": {},
   "source": [
    "# [nbestimate](https://github.com/parente/nbestimate)\n",
    "\n",
    "There are over 2 million notebooks on Github.\n"
   ]
  },
  {
   "cell_type": "code",
   "execution_count": 14,
   "metadata": {},
   "outputs": [
    {
     "data": {
      "application/vnd.jupyter.widget-view+json": {
       "model_id": "8dd0ef0067554b7aace71b094c2051f8",
       "version_major": 2,
       "version_minor": 0
      },
      "text/plain": [
       "VBox(children=(Box(children=(Output(layout=Layout(display='flex', flex='1', min_width='200px')), Output(layout…"
      ]
     },
     "metadata": {},
     "output_type": "display_data"
    }
   ],
   "source": [
    "f\"\"\"- - text/html: {_nbestimate_}\n",
    "  - |\n",
    "\n",
    "    {''.join(λ.pandas.read_html().first()(_nbestimate_).to_html().splitlines())}\n",
    "\"\"\""
   ]
  },
  {
   "cell_type": "code",
   "execution_count": 13,
   "metadata": {},
   "outputs": [
    {
     "data": {
      "application/vnd.jupyter.widget-view+json": {
       "model_id": "a0eecfa0fde24292b21ac7d9288c23cc",
       "version_major": 2,
       "version_minor": 0
      },
      "text/plain": [
       "VBox(children=(Box(children=(Output(layout=Layout(display='flex', flex='1', min_width='200px')),), layout=Layo…"
      ]
     },
     "metadata": {},
     "output_type": "display_data"
    }
   ],
   "source": [
    "    \"\"\"- text/html: \n",
    "        src: https://news.microsoft.com/2018/06/04/microsoft-to-acquire-github-for-7-5-billion/\n",
    "        width: 1200\"\"\""
   ]
  },
  {
   "cell_type": "markdown",
   "metadata": {},
   "source": [
    "# The value of notebooks\n",
    "\n",
    "## Notebooks are a medium rising in impact and distribution.\n",
    "## Modern notebooks are recognized as essential pieces of computing infrastructure.\n",
    "## Physical notebooks + modern notebooks are for modern creatives."
   ]
  },
  {
   "cell_type": "markdown",
   "metadata": {},
   "source": [
    "---\n",
    "\n",
    "## [Readme 🤛](readme.ipynb) 🤖 [🤜 Interactivity](1_interactive.ipynb)\n",
    "\n",
    "---"
   ]
  },
  {
   "cell_type": "markdown",
   "metadata": {},
   "source": [
    "# Extras\n",
    "\n",
    "### [A gallery of interesting Jupyter Notebooks](https://github.com/jupyter/jupyter/wiki/A-gallery-of-interesting-Jupyter-Notebooks)"
   ]
  },
  {
   "cell_type": "code",
   "execution_count": null,
   "metadata": {},
   "outputs": [],
   "source": []
  }
 ],
 "metadata": {
  "kernelspec": {
   "display_name": "Python 3",
   "language": "python",
   "name": "python3"
  },
  "language_info": {
   "codemirror_mode": {
    "name": "ipython",
    "version": 3
   },
   "file_extension": ".py",
   "mimetype": "text/x-python",
   "name": "python",
   "nbconvert_exporter": "python",
   "pygments_lexer": "ipython3",
   "version": "3.6.5"
  }
 },
 "nbformat": 4,
 "nbformat_minor": 2
}
