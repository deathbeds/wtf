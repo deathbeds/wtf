{
 "cells": [
  {
   "cell_type": "markdown",
   "metadata": {},
   "source": [
    "# [The Medium is the Message](https://en.wikipedia.org/wiki/The_medium_is_the_message)\n",
    "\n",
    "> For McLuhan, it was the medium itself that shaped and controlled \"the scale and form of human association and action\".\n",
    "\n",
    "![](https://media.winnipegfreepress.com/images/648*389/2561532.jpg)"
   ]
  },
  {
   "cell_type": "markdown",
   "metadata": {},
   "source": [
    "<hr/><hr/><hr/><hr/><hr/><hr/><hr/><hr/><hr/><hr/><hr/><hr/><hr/><hr/><hr/><hr/><hr/>\n",
    "\n",
    "# Who is familiar with notebooks?\n",
    "\n",
    "<hr/><hr/><hr/><hr/><hr/><hr/><hr/><hr/><hr/><hr/><hr/><hr/><hr/><hr/><hr/><hr/><hr/>"
   ]
  },
  {
   "cell_type": "code",
   "execution_count": 1,
   "metadata": {},
   "outputs": [
    {
     "data": {
      "text/html": [
       "<style>\n",
       ".jp-RenderedHTMLCommon pre code {\n",
       "    opacity: 0.25;\n",
       "}\n",
       ".jp-RenderedHTMLCommon pre code:hover {\n",
       "    transition: opacity 0.2s;\n",
       "    opacity: 1;\n",
       "    \n",
       "}\n",
       ".jp-Placeholder-content .jp-MoreHorizIcon {\n",
       "    background-size: 32px;\n",
       "}\n",
       "\n",
       "@import url(\"https://cdn.jsdelivr.net/npm/firacode@1.205.0/distr/fira_code.css\")\n",
       "\n",
       ".CodeMirror * {\n",
       "  font-family: 'Fira Code' !important; \n",
       "  font-variant-ligatures: initial !important;\n",
       "}\n",
       "\n",
       ".cm-string {\n",
       "    font-variant-ligatures: none;\n",
       "}\n",
       "</style><style>\n",
       ".jp-mod-presentationMode .jp-SideBar,\n",
       ".jp-mod-presentationMode #jp-top-panel {\n",
       "    opacity: 0.0;\n",
       "    transition: all 0.2s;\n",
       "}\n",
       ".jp-mod-presentationMode .jp-SideBar:hover,\n",
       ".jp-mod-presentationMode #jp-top-panel:hover {\n",
       "    opacity: 0.9;\n",
       "    transition: all 0.2s;\n",
       "}\n",
       "\n",
       "</style><style>\n",
       ".jp-mod-presentationMode.jp-ApplicationShell,\n",
       ".jp-mod-presentationMode .p-TabBar-content{\n",
       "    background-color: var(--jp-layout-color0);\n",
       "}\n",
       "</style><style>\n",
       ".jp-mod-presentationMode .p-DockPanel-widget,\n",
       ".jp-mod-presentationMode #jp-left-stack{\n",
       "    border-color: transparent;\n",
       "}\n",
       ".jp-mod-presentationMode .jp-Toolbar-item,\n",
       ".jp-mod-presentationMode .jp-Toolbar {\n",
       "    opacity: 0.1;\n",
       "    transition: all 0.2s;\n",
       "}\n",
       ".jp-mod-presentationMode .jp-Toolbar-item:hover,\n",
       ".jp-mod-presentationMode .jp-Toolbar:hover {\n",
       "    opacity: 0.9;\n",
       "    transition: all 0.2s;\n",
       "}\n",
       "\n",
       "</style><style>\n",
       ".jp-mod-presentationMode .jp-OutputPrompt,\n",
       ".jp-mod-presentationMode .jp-InputPrompt {\n",
       "    max-width: 2rem !important;\n",
       "    transition: all 0.2s;\n",
       "}\n",
       ".jp-mod-presentationMode .jp-Cell.jp-mod-selected .jp-OutputPrompt,\n",
       ".jp-mod-presentationMode .jp-Cell.jp-mod-selected .jp-InputPrompt,\n",
       ".jp-mod-presentationMode .jp-Cell:hover .jp-OutputPrompt,\n",
       ".jp-mod-presentationMode .jp-Cell:hover .jp-InputPrompt {\n",
       "    max-width: 10rem !important;\n",
       "    transition: all 0.2s;\n",
       "}\n",
       "\n",
       ".jp-mod-presentationMode .jp-Cell {\n",
       "    margin-bottom: 5rem;\n",
       "}\n",
       "\n",
       ".jp-mod-presentationMode hr {\n",
       "    opacity: 0.1;\n",
       "}\n",
       "</style>\n",
       "    <style>\n",
       "    .jp-TableOfContents-content h1, \n",
       "    .jp-TableOfContents-content h2 {\n",
       "        margin-bottom: var(--jp-ui-font-size0)\n",
       "    }\n",
       "    </style>\n",
       "    \n",
       "    <style>\n",
       "    .jp-mod-presentationMode {\n",
       "        --jp-content-heading-line-height: 1.25 !important;\n",
       "    }\n",
       "    </style>\n",
       "    "
      ],
      "text/plain": [
       "<IPython.core.display.HTML object>"
      ]
     },
     "metadata": {},
     "output_type": "display_data"
    }
   ],
   "source": [
    "from .utils import *"
   ]
  },
  {
   "cell_type": "markdown",
   "metadata": {},
   "source": [
    "<hr/><hr/><hr/><hr/><hr/><hr/><hr/><hr/><hr/><hr/><hr/><hr/><hr/><hr/><hr/><hr/><hr/>\n",
    "\n",
    "# Who writes python in notebooks?\n",
    "\n",
    "<hr/><hr/><hr/><hr/><hr/><hr/><hr/><hr/><hr/><hr/><hr/><hr/><hr/><hr/><hr/><hr/><hr/>"
   ]
  },
  {
   "cell_type": "markdown",
   "metadata": {},
   "source": [
    "# The lab notebook was the medium "
   ]
  },
  {
   "cell_type": "code",
   "execution_count": 2,
   "metadata": {},
   "outputs": [
    {
     "data": {
      "text/html": [
       "<div class=\"flexed-container\">\n",
       "        <iframe\n",
       "            width=\"1000\"\n",
       "            height=\"450\"\n",
       "            src=\"https://en.m.wikipedia.org/wiki/Lab_notebook\"\n",
       "            frameborder=\"0\"\n",
       "            allowfullscreen\n",
       "        ></iframe>\n",
       "        </div>"
      ],
      "text/plain": [
       "Row(content=[{'text/html': {'src': 'https://en.m.wikipedia.org/wiki/Lab_notebook', 'width': 1000}}])"
      ]
     },
     "metadata": {},
     "output_type": "display_data"
    },
    {
     "data": {
      "text/html": [
       "<div class=\"flexed-container\">\n",
       "        <iframe\n",
       "            width=\"100%\"\n",
       "            height=\"450\"\n",
       "            src=\"https://sites.dartmouth.edu/library/2014/11/14/ciphering-books-2/\"\n",
       "            frameborder=\"0\"\n",
       "            allowfullscreen\n",
       "        ></iframe>\n",
       "        \n",
       "        <iframe\n",
       "            width=\"100%\"\n",
       "            height=\"450\"\n",
       "            src=\"https://anaconda.org/nbcio/data-in-thomas-jefferson-s-garden-notebook/notebook\"\n",
       "            frameborder=\"0\"\n",
       "            allowfullscreen\n",
       "        ></iframe>\n",
       "        \n",
       "        <iframe\n",
       "            width=\"100%\"\n",
       "            height=\"450\"\n",
       "            src=\"http://www.openculture.com/2016/03/3900-pages-of-paul-klees-personal-notebooks-are-now-online.html\"\n",
       "            frameborder=\"0\"\n",
       "            allowfullscreen\n",
       "        ></iframe>\n",
       "        </div>"
      ],
      "text/plain": [
       "Row(content=[{'text/html': 'https://sites.dartmouth.edu/library/2014/11/14/ciphering-books-2/'}, {'text/html': 'https://anaconda.org/nbcio/data-in-thomas-jefferson-s-garden-notebook/notebook'}, {'text/html': 'http://www.openculture.com/2016/03/3900-pages-of-paul-klees-personal-notebooks-are-now-online.html'}])"
      ]
     },
     "metadata": {},
     "output_type": "display_data"
    }
   ],
   "source": [
    "\"\"\"- text/html: {src: \"https://en.m.wikipedia.org/wiki/Lab_notebook\", width: 1000}\"\"\"; \"\"\"\n",
    "- text/html: https://sites.dartmouth.edu/library/2014/11/14/ciphering-books-2/\n",
    "- text/html: https://anaconda.org/nbcio/data-in-thomas-jefferson-s-garden-notebook/notebook\n",
    "- text/html: http://www.openculture.com/2016/03/3900-pages-of-paul-klees-personal-notebooks-are-now-online.html\"\"\""
   ]
  },
  {
   "cell_type": "markdown",
   "metadata": {},
   "source": [
    "> Inspiration figures in color theory [Josef Albers](https://en.wikipedia.org/wiki/Josef_Albers) & [Johannes Itten](https://en.wikipedia.org/wiki/Johannes_Itten) from the [~~Staatliches~~ Bauhaus movement](https://en.wikipedia.org/wiki/Bauhaus)."
   ]
  },
  {
   "cell_type": "markdown",
   "metadata": {},
   "source": [
    "- http://printingcode.runemadsen.com/lecture-color/#.html"
   ]
  },
  {
   "cell_type": "markdown",
   "metadata": {},
   "source": [
    "### [The first computer bug is recorded in a lab notebook](https://commons.wikimedia.org/wiki/File:H96566k.jpg).\n",
    "\n",
    "_Engineering successes in computer science are recently influencing approaches to the scientific methods._\n",
    "\n",
    "[![](https://upload.wikimedia.org/wikipedia/commons/8/8a/H96566k.jpg)](https://commons.wikimedia.org/wiki/File:H96566k.jpg)"
   ]
  },
  {
   "cell_type": "code",
   "execution_count": 3,
   "metadata": {},
   "outputs": [
    {
     "data": {
      "text/html": [
       "\n",
       "        <iframe\n",
       "            width=\"100%\"\n",
       "            height=\"450\"\n",
       "            src=\"https://www.high.org/exhibition/basquiat-notebooks/\"\n",
       "            frameborder=\"0\"\n",
       "            allowfullscreen\n",
       "        ></iframe>\n",
       "        "
      ],
      "text/plain": [
       "<IPython.lib.display.IFrame at 0x1b4ffc501d0>"
      ]
     },
     "metadata": {},
     "output_type": "display_data"
    }
   ],
   "source": [
    "\"\"\"https://www.high.org/exhibition/basquiat-notebooks/\"\"\""
   ]
  },
  {
   "cell_type": "markdown",
   "metadata": {},
   "source": [
    "# Modern notebooks are a new medium\n",
    "\n",
    "There is too much data to record on dead💀🌳trees."
   ]
  },
  {
   "cell_type": "markdown",
   "metadata": {},
   "source": [
    "## Notebook interfaces have a long history in interactive computing."
   ]
  },
  {
   "cell_type": "code",
   "execution_count": 4,
   "metadata": {},
   "outputs": [
    {
     "data": {
      "text/html": [
       "<div class=\"flexed-container\"><div class=\"flexed-item\"><h3>Mother of all demos: 1968</h3>\n",
       "<blockquote><p><em>So in my office I have a console like this, and there are 12 others that are computer supplies.  And we try now-a-days to do our daily work on here.  So this characterizes the way I could sit here and look at a <strong>clear blank piece of paper</strong>, that's the way I start many projects.</em></p>\n",
       "<p>Doug Englebart - <a href=\"https://github.com/atduskgreg/MoAD-Transcript\"><em>Mother of all demos</em></a></p>\n",
       "</blockquote>\n",
       "<p><a href=\"https://commons.wikimedia.org/wiki/File:SRI_Computer_Mouse.jpg\"><img src=\"https://upload.wikimedia.org/wikipedia/commons/c/cc/SRI_Computer_Mouse.jpg\" alt=\"\"></a></p>\n",
       "</div><div class=\"flexed-item\"><h3>Visicalc: 1979</h3>\n",
       "\n",
       "        <iframe\n",
       "            width=\"100%\"\n",
       "            height=\"450\"\n",
       "            src=\"https://en.m.wikipedia.org/wiki/VisiCalc\"\n",
       "            frameborder=\"0\"\n",
       "            allowfullscreen\n",
       "        ></iframe>\n",
       "        </div></div>"
      ],
      "text/plain": [
       "Row(content=[[\"### Mother of all demos: 1968\\n> _So in my office I have a console like this, and there are 12 others that are computer supplies.  And we try now-a-days to do our daily work on here.  So this characterizes the way I could sit here and look at a __clear blank piece of paper__, that's the way I start many projects._\\n>\\n> Doug Englebart - [_Mother of all demos_](https://github.com/atduskgreg/MoAD-Transcript)\\n\\n[![](https://upload.wikimedia.org/wikipedia/commons/c/cc/SRI_Computer_Mouse.jpg)](https://commons.wikimedia.org/wiki/File:SRI_Computer_Mouse.jpg)\\n\"], ['### Visicalc: 1979', {'text/html': 'https://en.m.wikipedia.org/wiki/VisiCalc'}]])"
      ]
     },
     "metadata": {},
     "output_type": "display_data"
    }
   ],
   "source": [
    "\"\"\"- - |\n",
    "        ### Mother of all demos: 1968\n",
    "        > _So in my office I have a console like this, and there are 12 others that are computer supplies.  And we try now-a-days to do our daily work on here.  So this characterizes the way I could sit here and look at a __clear blank piece of paper__, that's the way I start many projects._\n",
    "        >\n",
    "        > Doug Englebart - [_Mother of all demos_](https://github.com/atduskgreg/MoAD-Transcript)\n",
    "        \n",
    "        [![](https://upload.wikimedia.org/wikipedia/commons/c/cc/SRI_Computer_Mouse.jpg)](https://commons.wikimedia.org/wiki/File:SRI_Computer_Mouse.jpg)\n",
    "\n",
    "- - \"### Visicalc: 1979\"\n",
    "\n",
    "  - text/html: https://en.m.wikipedia.org/wiki/VisiCalc\"\"\""
   ]
  },
  {
   "cell_type": "markdown",
   "metadata": {},
   "source": [
    "### Mathematica Notebook: 1988"
   ]
  },
  {
   "cell_type": "code",
   "execution_count": 5,
   "metadata": {},
   "outputs": [
    {
     "data": {
      "text/html": [
       "<div class=\"flexed-container\">\n",
       "        <iframe\n",
       "            width=\"100%\"\n",
       "            height=\"450\"\n",
       "            src=\"https://patentimages.storage.googleapis.com/83/a7/4c/45eb89984d5a96/US8407580.pdf#page=4\"\n",
       "            frameborder=\"0\"\n",
       "            allowfullscreen\n",
       "        ></iframe>\n",
       "        \n",
       "        <iframe\n",
       "            width=\"100%\"\n",
       "            height=\"450\"\n",
       "            src=\"http://reference.wolfram.com/language/tutorial/UsingANotebookInterface.html\"\n",
       "            frameborder=\"0\"\n",
       "            allowfullscreen\n",
       "        ></iframe>\n",
       "        </div>"
      ],
      "text/plain": [
       "Row(content=[{'text/html': 'https://patentimages.storage.googleapis.com/83/a7/4c/45eb89984d5a96/US8407580.pdf#page=4'}, 'http://reference.wolfram.com/language/tutorial/UsingANotebookInterface.html'])"
      ]
     },
     "metadata": {},
     "output_type": "display_data"
    }
   ],
   "source": [
    "    \"\"\"- text/html: https://patentimages.storage.googleapis.com/83/a7/4c/45eb89984d5a96/US8407580.pdf#page=4\n",
    "    - http://reference.wolfram.com/language/tutorial/UsingANotebookInterface.html\"\"\""
   ]
  },
  {
   "cell_type": "code",
   "execution_count": 6,
   "metadata": {},
   "outputs": [
    {
     "data": {
      "text/html": [
       "<div class=\"flexed-container\"><h3>CoCalc (was SageMathCloud): 2010</h3>\n",
       "\n",
       "        <iframe\n",
       "            width=\"100%\"\n",
       "            height=\"450\"\n",
       "            src=\"https://cocalc.com/#.html\"\n",
       "            frameborder=\"0\"\n",
       "            allowfullscreen\n",
       "        ></iframe>\n",
       "        </div>"
      ],
      "text/plain": [
       "Row(content=['### CoCalc (was SageMathCloud): 2010', 'https://cocalc.com/#.html'])"
      ]
     },
     "metadata": {},
     "output_type": "display_data"
    },
    {
     "data": {
      "text/html": [
       "<div class=\"flexed-container\">\n",
       "        <iframe\n",
       "            width=\"100%\"\n",
       "            height=\"450\"\n",
       "            src=\"http://jupyter.org/#.html\"\n",
       "            frameborder=\"0\"\n",
       "            allowfullscreen\n",
       "        ></iframe>\n",
       "        <h3>Jupyter (was IPython) Notebook: 2011</h3>\n",
       "</div>"
      ],
      "text/plain": [
       "Row(content=['http://jupyter.org/#.html', '### Jupyter (was IPython) Notebook: 2011'])"
      ]
     },
     "metadata": {},
     "output_type": "display_data"
    },
    {
     "data": {
      "text/html": [
       "<div class=\"flexed-container\"><h3>Apache Zeppelin: 2016</h3>\n",
       "\n",
       "        <iframe\n",
       "            width=\"100%\"\n",
       "            height=\"450\"\n",
       "            src=\"https://zeppelin.apache.org/#.html\"\n",
       "            frameborder=\"0\"\n",
       "            allowfullscreen\n",
       "        ></iframe>\n",
       "        </div>"
      ],
      "text/plain": [
       "Row(content=['### Apache Zeppelin: 2016', 'https://zeppelin.apache.org/#.html'])"
      ]
     },
     "metadata": {},
     "output_type": "display_data"
    }
   ],
   "source": [
    "\"\"\"-  \"### CoCalc (was SageMathCloud): 2010\"\n",
    "-  https://cocalc.com/#.html\n",
    "\"\"\"; \"\"\"\n",
    "-  \"http://jupyter.org/#.html\"\n",
    "- \"### Jupyter (was IPython) Notebook: 2011\" \n",
    "\"\"\";\"\"\"  \n",
    "\n",
    "- \"### Apache Zeppelin: 2016\"\n",
    "- https://zeppelin.apache.org/#.html\"\"\"\n"
   ]
  },
  {
   "cell_type": "code",
   "execution_count": 9,
   "metadata": {},
   "outputs": [],
   "source": [
    "λ.pandas.set_option('display.max_colwidth', -1)()\n",
    "\n",
    "acm_awards = (\n",
    "    λ.pandas.read_html().first()\n",
    "    (\"\"\"https://en.wikipedia.org/wiki/ACM_Software_System_Award\"\"\")\n",
    "    .pipe(lambda df: df.rename(columns=dict(zip(range(len(df.columns)), df.iloc[0]))).iloc[1:]).set_index('Year')\n",
    ")"
   ]
  },
  {
   "cell_type": "code",
   "execution_count": 10,
   "metadata": {},
   "outputs": [
    {
     "data": {
      "text/html": [
       "<div class=\"flexed-container\"><table border=\"1\" class=\"dataframe\">  <thead>    <tr style=\"text-align: right;\">      <th></th>      <th></th>      <th>Recipients</th>    </tr>    <tr>      <th>Year</th>      <th>Project</th>      <th></th>    </tr>  </thead>  <tbody>    <tr>      <th>1983</th>      <th>UNIX</th>      <td>Dennis Ritchie, Ken Thompson</td>    </tr>    <tr>      <th>1984</th>      <th>Xerox Alto</th>      <td>Butler W. Lampson, Robert Taylor, Charles P. Thacker</td>    </tr>    <tr>      <th>1985</th>      <th>VisiCalc</th>      <td>Dan Bricklin, Bob Frankston</td>    </tr>    <tr>      <th>1986</th>      <th>TeX</th>      <td>Donald E. Knuth</td>    </tr>    <tr>      <th>1987</th>      <th>Smalltalk</th>      <td>Adele Goldberg, Daniel Henry Holmes Ingalls, Jr., Alan C. Kay</td>    </tr>    <tr>      <th rowspan=\"2\" valign=\"top\">1988</th>      <th>System R</th>      <td>Donald Chamberlin, Jim Gray, Raymond Lorie, Gianfranco Putzolu, Patricia Selinger, Irving Traiger</td>    </tr>    <tr>      <th>INGRES</th>      <td>Gerald Held, Michael Stonebraker, Eugene Wong</td>    </tr>    <tr>      <th>1989</th>      <th>PostScript[3]</th>      <td>Douglas K. Brotz, Charles M. Geschke, William H. Paxton, Edward A. Taft, John E. Warnock</td>    </tr>    <tr>      <th>1990</th>      <th>NLS</th>      <td>Douglas C. Engelbart, William English, Jeff Rulifson</td>    </tr>    <tr>      <th>1991</th>      <th>TCP/IP</th>      <td>Vinton G. Cerf, Robert E. Kahn</td>    </tr>    <tr>      <th>1992</th>      <th>Interlisp</th>      <td>Daniel Bobrow, Richard R. Burton, L. Peter Deutsch, Ronald Kaplan, Larry Masinter, Warren Teitelman</td>    </tr>    <tr>      <th>1993</th>      <th>Sketchpad</th>      <td>Ivan Sutherland</td>    </tr>    <tr>      <th>1994</th>      <th>Remote Procedure Call</th>      <td>Andrew Birrell, Bruce Nelson</td>    </tr>    <tr>      <th>1995</th>      <th>World Wide Web</th>      <td>Tim Berners-Lee, Robert Cailliau</td>    </tr>    <tr>      <th>1996</th>      <th>NCSA Mosaic</th>      <td>Marc Andreessen, Eric Bina</td>    </tr>    <tr>      <th>1997</th>      <th>Tcl/Tk</th>      <td>John Ousterhout</td>    </tr>    <tr>      <th>1998</th>      <th>S</th>      <td>John Chambers</td>    </tr>    <tr>      <th>1999</th>      <th>The Apache Group</th>      <td>Brian Behlendorf, Roy Fielding, Rob Hartill, David Robinson, Cliff Skolnick, Randy Terbush, Robert S. Thau, Andrew Wilson</td>    </tr>    <tr>      <th>2001</th>      <th>SPIN model checker</th>      <td>Gerard Holzmann</td>    </tr>    <tr>      <th>2002</th>      <th>Java</th>      <td>James Gosling</td>    </tr>    <tr>      <th>2003</th>      <th>make</th>      <td>Stuart Feldman</td>    </tr>    <tr>      <th>2004</th>      <th>Secure Network Programming</th>      <td>Raghuram Bindignavle, Simon S. Lam, Shaowen Su, Thomas Y. C. Woo</td>    </tr>    <tr>      <th>2005</th>      <th>The Boyer-Moore Theorem Prover</th>      <td>Robert S. Boyer, Matt Kaufmann, J Strother Moore</td>    </tr>    <tr>      <th>2006</th>      <th>Eiffel[2]</th>      <td>Bertrand Meyer</td>    </tr>    <tr>      <th>2007</th>      <th>Statemate</th>      <td>David Harel, Hagi Lachover, Amnon Naamad, Amir Pnueli, Michal Politi, Rivi Sherman, Mark Trakhtenbrot, Aron Trauring</td>    </tr>    <tr>      <th>2008</th>      <th>Gamma Parallel Database System</th>      <td>David DeWitt, Robert Gerber, Murali Krishna, Donovan Schneider, Shahram Ghandeharizadeh, Goetz Graefe, Michael Heytens, Hui-I Hsiao, Jeffrey Naughton, Anoop Sharma</td>    </tr>    <tr>      <th>2009</th>      <th>VMware Workstation for Linux 1.0</th>      <td>Edouard Bugnion, Scott Devine, Mendel Rosenblum, Jeremy Sugerman, Edward Y. Wang</td>    </tr>    <tr>      <th>2010</th>      <th>GroupLens Collaborative Filtering Recommender Systems</th>      <td>Peter Bergstrom, Lee R. Gordon, Jonathan L. Herlocker, Neophytos Iacovou, Joseph A. Konstan, Shyong (Tony) K. Lam, David Maltz, Sean M. McNee, Bradley N. Miller, Paul J. Resnick, John T. Riedl, Mitesh Suchak</td>    </tr>    <tr>      <th>2011</th>      <th>Eclipse</th>      <td>John Wiegand, Dave Thomson, Gregory Adams, Philippe Mulet, Julian Jones, John Duimovich, Kevin Haaland, Stephen Northover, and Erich Gamma</td>    </tr>    <tr>      <th>2012</th>      <th>LLVM</th>      <td>Vikram S. Adve, Evan Cheng and Chris Lattner</td>    </tr>    <tr>      <th>2013</th>      <th>Coq</th>      <td>Thierry Coquand, Gérard Pierre Huet, Christine Paulin-Mohring, Bruno Barras, Jean-Christophe Filliâtre, Hugo Herbelin, Chetan Murthy, Yves Bertot and Pierre Castéran</td>    </tr>    <tr>      <th>2014</th>      <th>Mach</th>      <td>Rick Rashid, Avie Tevanian</td>    </tr>    <tr>      <th>2015</th>      <th>GCC</th>      <td>Richard Stallman</td>    </tr>    <tr>      <th>2016</th>      <th>Andrew File System</th>      <td>John H. Howard, Michael L. Kazar, David A. Nichols, Sherri Nichols, Mahadev Satyanarayanan, Robert N. Sidebotham, Alfred Spector, Michael West</td>    </tr>    <tr>      <th>2017</th>      <th>Project Jupyter</th>      <td>Fernando Pérez, Brian E. Granger, Min Ragan-Kelley, Paul Ivanov, Thomas Kluyver, Jason Grout, Matthias Bussonnier, Damián Avila, Steven Silvester, Jonathan Frederic, Kyle Kelley, Jessica Hamrick, Carol Willing, Sylvain Corlay, Peter Parente</td>    </tr>  </tbody></table><div class=\"flexed-item\"><hr>\n",
       "<h2><a href=\"https://en.wikipedia.org/wiki/ACM_Software_System_Award\">Association of Computing Machinery Software System Award</a></h2>\n",
       "<blockquote><p>The ACM Software System Award is an annual award that honors people or an organization \"for developing a software system that has had a lasting influence, reflected in contributions to concepts, in commercial acceptance, or both\". It is awarded by the Association for Computing Machinery (ACM) since 1983</p>\n",
       "</blockquote>\n",
       "<div style=\"height: 500px;\"></div></div></div>"
      ],
      "text/plain": [
       "Row(content=['<table border=\"1\" class=\"dataframe\">  <thead>    <tr style=\"text-align: right;\">      <th></th>      <th></th>      <th>Recipients</th>    </tr>    <tr>      <th>Year</th>      <th>Project</th>      <th></th>    </tr>  </thead>  <tbody>    <tr>      <th>1983</th>      <th>UNIX</th>      <td>Dennis Ritchie, Ken Thompson</td>    </tr>    <tr>      <th>1984</th>      <th>Xerox Alto</th>      <td>Butler W. Lampson, Robert Taylor, Charles P. Thacker</td>    </tr>    <tr>      <th>1985</th>      <th>VisiCalc</th>      <td>Dan Bricklin, Bob Frankston</td>    </tr>    <tr>      <th>1986</th>      <th>TeX</th>      <td>Donald E. Knuth</td>    </tr>    <tr>      <th>1987</th>      <th>Smalltalk</th>      <td>Adele Goldberg, Daniel Henry Holmes Ingalls, Jr., Alan C. Kay</td>    </tr>    <tr>      <th rowspan=\"2\" valign=\"top\">1988</th>      <th>System R</th>      <td>Donald Chamberlin, Jim Gray, Raymond Lorie, Gianfranco Putzolu, Patricia Selinger, Irving Traiger</td>    </tr>    <tr>      <th>INGRES</th>      <td>Gerald Held, Michael Stonebraker, Eugene Wong</td>    </tr>    <tr>      <th>1989</th>      <th>PostScript[3]</th>      <td>Douglas K. Brotz, Charles M. Geschke, William H. Paxton, Edward A. Taft, John E. Warnock</td>    </tr>    <tr>      <th>1990</th>      <th>NLS</th>      <td>Douglas C. Engelbart, William English, Jeff Rulifson</td>    </tr>    <tr>      <th>1991</th>      <th>TCP/IP</th>      <td>Vinton G. Cerf, Robert E. Kahn</td>    </tr>    <tr>      <th>1992</th>      <th>Interlisp</th>      <td>Daniel Bobrow, Richard R. Burton, L. Peter Deutsch, Ronald Kaplan, Larry Masinter, Warren Teitelman</td>    </tr>    <tr>      <th>1993</th>      <th>Sketchpad</th>      <td>Ivan Sutherland</td>    </tr>    <tr>      <th>1994</th>      <th>Remote Procedure Call</th>      <td>Andrew Birrell, Bruce Nelson</td>    </tr>    <tr>      <th>1995</th>      <th>World Wide Web</th>      <td>Tim Berners-Lee, Robert Cailliau</td>    </tr>    <tr>      <th>1996</th>      <th>NCSA Mosaic</th>      <td>Marc Andreessen, Eric Bina</td>    </tr>    <tr>      <th>1997</th>      <th>Tcl/Tk</th>      <td>John Ousterhout</td>    </tr>    <tr>      <th>1998</th>      <th>S</th>      <td>John Chambers</td>    </tr>    <tr>      <th>1999</th>      <th>The Apache Group</th>      <td>Brian Behlendorf, Roy Fielding, Rob Hartill, David Robinson, Cliff Skolnick, Randy Terbush, Robert S. Thau, Andrew Wilson</td>    </tr>    <tr>      <th>2001</th>      <th>SPIN model checker</th>      <td>Gerard Holzmann</td>    </tr>    <tr>      <th>2002</th>      <th>Java</th>      <td>James Gosling</td>    </tr>    <tr>      <th>2003</th>      <th>make</th>      <td>Stuart Feldman</td>    </tr>    <tr>      <th>2004</th>      <th>Secure Network Programming</th>      <td>Raghuram Bindignavle, Simon S. Lam, Shaowen Su, Thomas Y. C. Woo</td>    </tr>    <tr>      <th>2005</th>      <th>The Boyer-Moore Theorem Prover</th>      <td>Robert S. Boyer, Matt Kaufmann, J Strother Moore</td>    </tr>    <tr>      <th>2006</th>      <th>Eiffel[2]</th>      <td>Bertrand Meyer</td>    </tr>    <tr>      <th>2007</th>      <th>Statemate</th>      <td>David Harel, Hagi Lachover, Amnon Naamad, Amir Pnueli, Michal Politi, Rivi Sherman, Mark Trakhtenbrot, Aron Trauring</td>    </tr>    <tr>      <th>2008</th>      <th>Gamma Parallel Database System</th>      <td>David DeWitt, Robert Gerber, Murali Krishna, Donovan Schneider, Shahram Ghandeharizadeh, Goetz Graefe, Michael Heytens, Hui-I Hsiao, Jeffrey Naughton, Anoop Sharma</td>    </tr>    <tr>      <th>2009</th>      <th>VMware Workstation for Linux 1.0</th>      <td>Edouard Bugnion, Scott Devine, Mendel Rosenblum, Jeremy Sugerman, Edward Y. Wang</td>    </tr>    <tr>      <th>2010</th>      <th>GroupLens Collaborative Filtering Recommender Systems</th>      <td>Peter Bergstrom, Lee R. Gordon, Jonathan L. Herlocker, Neophytos Iacovou, Joseph A. Konstan, Shyong (Tony) K. Lam, David Maltz, Sean M. McNee, Bradley N. Miller, Paul J. Resnick, John T. Riedl, Mitesh Suchak</td>    </tr>    <tr>      <th>2011</th>      <th>Eclipse</th>      <td>John Wiegand, Dave Thomson, Gregory Adams, Philippe Mulet, Julian Jones, John Duimovich, Kevin Haaland, Stephen Northover, and Erich Gamma</td>    </tr>    <tr>      <th>2012</th>      <th>LLVM</th>      <td>Vikram S. Adve, Evan Cheng and Chris Lattner</td>    </tr>    <tr>      <th>2013</th>      <th>Coq</th>      <td>Thierry Coquand, Gérard Pierre Huet, Christine Paulin-Mohring, Bruno Barras, Jean-Christophe Filliâtre, Hugo Herbelin, Chetan Murthy, Yves Bertot and Pierre Castéran</td>    </tr>    <tr>      <th>2014</th>      <th>Mach</th>      <td>Rick Rashid, Avie Tevanian</td>    </tr>    <tr>      <th>2015</th>      <th>GCC</th>      <td>Richard Stallman</td>    </tr>    <tr>      <th>2016</th>      <th>Andrew File System</th>      <td>John H. Howard, Michael L. Kazar, David A. Nichols, Sherri Nichols, Mahadev Satyanarayanan, Robert N. Sidebotham, Alfred Spector, Michael West</td>    </tr>    <tr>      <th>2017</th>      <th>Project Jupyter</th>      <td>Fernando Pérez, Brian E. Granger, Min Ragan-Kelley, Paul Ivanov, Thomas Kluyver, Jason Grout, Matthias Bussonnier, Damián Avila, Steven Silvester, Jonathan Frederic, Kyle Kelley, Jessica Hamrick, Carol Willing, Sylvain Corlay, Peter Parente</td>    </tr>  </tbody></table>', ['---', '## [Association of Computing Machinery Software System Award](https://en.wikipedia.org/wiki/ACM_Software_System_Award)\\n> The ACM Software System Award is an annual award that honors people or an organization \"for developing a software system that has had a lasting influence, reflected in contributions to concepts, in commercial acceptance, or both\". It is awarded by the Association for Computing Machinery (ACM) since 1983\\n', '<div style=\"height: 500px;\"></div>']])"
      ]
     },
     "metadata": {},
     "output_type": "display_data"
    }
   ],
   "source": [
    "f\"\"\"- '{''.join(acm_awards.iloc[::-1].set_index('Project', append=True).to_html().splitlines())}'\n",
    "- - ---\n",
    "  - |\n",
    "    ## [Association of Computing Machinery Software System Award](https://en.wikipedia.org/wiki/ACM_Software_System_Award)\n",
    "\n",
    "    > The ACM Software System Award is an annual award that honors people or an organization \"for developing a software system that has had a lasting influence, reflected in contributions to concepts, in commercial acceptance, or both\". It is awarded by the Association for Computing Machinery (ACM) since 1983\n",
    "    \n",
    "  - '<div style=\"height: 500px;\"></div>'\n",
    "\"\"\""
   ]
  },
  {
   "cell_type": "markdown",
   "metadata": {},
   "source": [
    "## Notebooks in mainstream scientific media"
   ]
  },
  {
   "cell_type": "code",
   "execution_count": 11,
   "metadata": {},
   "outputs": [
    {
     "data": {
      "text/html": [
       "\n",
       "        <iframe\n",
       "            width=\"100%\"\n",
       "            height=\"450\"\n",
       "            src=\"https://cdn.theatlantic.com/assets/media/img/posts/2018/03/image_2-1/cf588dbcd.png\"\n",
       "            frameborder=\"0\"\n",
       "            allowfullscreen\n",
       "        ></iframe>\n",
       "        "
      ],
      "text/plain": [
       "<IPython.lib.display.IFrame at 0x1b483fa5438>"
      ]
     },
     "metadata": {},
     "output_type": "display_data"
    }
   ],
   "source": [
    "\"https://cdn.theatlantic.com/assets/media/img/posts/2018/03/image_2-1/cf588dbcd.png\""
   ]
  },
  {
   "cell_type": "code",
   "execution_count": 12,
   "metadata": {},
   "outputs": [
    {
     "data": {
      "text/html": [
       "<div class=\"flexed-container\">\n",
       "        <iframe\n",
       "            width=\"100%\"\n",
       "            height=\"450\"\n",
       "            src=\"http://nbviewer.jupyter.org/github/robertodealmeida/notebooks/blob/master/scientific_american/Scientific%20American%20graph.ipynb\"\n",
       "            frameborder=\"0\"\n",
       "            allowfullscreen\n",
       "        ></iframe>\n",
       "        \n",
       "        <iframe\n",
       "            width=\"100%\"\n",
       "            height=\"450\"\n",
       "            src=\"http://nbviewer.jupyter.org/github/minrk/ligo-binder/blob/master/index.ipynb\"\n",
       "            frameborder=\"0\"\n",
       "            allowfullscreen\n",
       "        ></iframe>\n",
       "        </div>"
      ],
      "text/plain": [
       "Row(content=[{'text/html': 'http://nbviewer.jupyter.org/github/robertodealmeida/notebooks/blob/master/scientific_american/Scientific%20American%20graph.ipynb'}, {'text/html': 'http://nbviewer.jupyter.org/github/minrk/ligo-binder/blob/master/index.ipynb'}])"
      ]
     },
     "metadata": {},
     "output_type": "display_data"
    },
    {
     "data": {
      "text/html": [
       "\n",
       "        <iframe\n",
       "            width=\"100%\"\n",
       "            height=\"450\"\n",
       "            src=\"https://www.theatlantic.com/science/archive/2018/04/the-scientific-paper-is-obsolete/556676/\"\n",
       "            frameborder=\"0\"\n",
       "            allowfullscreen\n",
       "        ></iframe>\n",
       "        "
      ],
      "text/plain": [
       "<IPython.lib.display.IFrame at 0x1b483fa5be0>"
      ]
     },
     "metadata": {},
     "output_type": "display_data"
    }
   ],
   "source": [
    "\"\"\"- text/html: http://nbviewer.jupyter.org/github/robertodealmeida/notebooks/blob/master/scientific_american/Scientific%20American%20graph.ipynb\n",
    "- text/html: http://nbviewer.jupyter.org/github/minrk/ligo-binder/blob/master/index.ipynb\n",
    "\"\"\"; \"\"\"https://www.theatlantic.com/science/archive/2018/04/the-scientific-paper-is-obsolete/556676/\"\"\""
   ]
  },
  {
   "cell_type": "code",
   "execution_count": 13,
   "metadata": {},
   "outputs": [],
   "source": [
    "_nbestimate_ = \"\"\"http://nbviewer.jupyter.org/github/parente/nbestimate/blob/master/estimate.ipynb\"\"\""
   ]
  },
  {
   "cell_type": "markdown",
   "metadata": {},
   "source": [
    "# [nbestimate](https://github.com/parente/nbestimate)\n",
    "\n",
    "There are over 2 million notebooks on Github.\n"
   ]
  },
  {
   "cell_type": "code",
   "execution_count": 14,
   "metadata": {},
   "outputs": [
    {
     "data": {
      "text/html": [
       "<div class=\"flexed-container\">\n",
       "        <iframe\n",
       "            width=\"100%\"\n",
       "            height=\"450\"\n",
       "            src=\"http://nbviewer.jupyter.org/github/parente/nbestimate/blob/master/estimate.ipynb\"\n",
       "            frameborder=\"0\"\n",
       "            allowfullscreen\n",
       "        ></iframe>\n",
       "        <table border=\"1\" class=\"dataframe\">  <thead>    <tr>      <th></th>      <th>Unnamed: 0_level_0</th>      <th>hits</th>    </tr>    <tr>      <th></th>      <th>date</th>      <th>Unnamed: 1_level_1</th>    </tr>  </thead>  <tbody>    <tr>      <th>0</th>      <td>2018-06-18</td>      <td>2368584</td>    </tr>    <tr>      <th>1</th>      <td>2018-07-13</td>      <td>2492680</td>    </tr>    <tr>      <th>2</th>      <td>2018-07-29</td>      <td>2567227</td>    </tr>  </tbody></table></div>"
      ],
      "text/plain": [
       "Row(content=[{'text/html': 'http://nbviewer.jupyter.org/github/parente/nbestimate/blob/master/estimate.ipynb'}, '<table border=\"1\" class=\"dataframe\">  <thead>    <tr>      <th></th>      <th>Unnamed: 0_level_0</th>      <th>hits</th>    </tr>    <tr>      <th></th>      <th>date</th>      <th>Unnamed: 1_level_1</th>    </tr>  </thead>  <tbody>    <tr>      <th>0</th>      <td>2018-06-18</td>      <td>2368584</td>    </tr>    <tr>      <th>1</th>      <td>2018-07-13</td>      <td>2492680</td>    </tr>    <tr>      <th>2</th>      <td>2018-07-29</td>      <td>2567227</td>    </tr>  </tbody></table>\\n'])"
      ]
     },
     "metadata": {},
     "output_type": "display_data"
    }
   ],
   "source": [
    "f\"\"\"- text/html: {_nbestimate_}\n",
    "- |\n",
    "\n",
    "    {''.join(λ.pandas.read_html().first()(_nbestimate_).to_html().splitlines())}\n",
    "\"\"\""
   ]
  },
  {
   "cell_type": "code",
   "execution_count": 13,
   "metadata": {},
   "outputs": [
    {
     "data": {
      "application/vnd.jupyter.widget-view+json": {
       "model_id": "a0eecfa0fde24292b21ac7d9288c23cc",
       "version_major": 2,
       "version_minor": 0
      },
      "text/plain": [
       "VBox(children=(Box(children=(Output(layout=Layout(display='flex', flex='1', min_width='200px')),), layout=Layo…"
      ]
     },
     "metadata": {},
     "output_type": "display_data"
    }
   ],
   "source": [
    "    \"\"\"- text/html: \n",
    "        src: https://news.microsoft.com/2018/06/04/microsoft-to-acquire-github-for-7-5-billion/\n",
    "        width: 1200\"\"\""
   ]
  },
  {
   "cell_type": "markdown",
   "metadata": {},
   "source": [
    "# The value of notebooks\n",
    "\n",
    "## Notebooks are a medium rising in impact and distribution.\n",
    "## Modern notebooks are recognized as essential pieces of computing infrastructure.\n",
    "## Physical notebooks + modern notebooks are for modern creatives."
   ]
  },
  {
   "cell_type": "markdown",
   "metadata": {},
   "source": [
    "---\n",
    "\n",
    "## [Readme 🤛](readme.ipynb) 🤖 [🤜 Interactivity](1_interactive.ipynb)\n",
    "\n",
    "---"
   ]
  },
  {
   "cell_type": "markdown",
   "metadata": {},
   "source": [
    "# Extras\n",
    "\n",
    "### [A gallery of interesting Jupyter Notebooks](https://github.com/jupyter/jupyter/wiki/A-gallery-of-interesting-Jupyter-Notebooks)"
   ]
  },
  {
   "cell_type": "code",
   "execution_count": null,
   "metadata": {},
   "outputs": [],
   "source": []
  }
 ],
 "metadata": {
  "kernelspec": {
   "display_name": "Python 3",
   "language": "python",
   "name": "python3"
  },
  "language_info": {
   "codemirror_mode": {
    "name": "ipython",
    "version": 3
   },
   "file_extension": ".py",
   "mimetype": "text/x-python",
   "name": "python",
   "nbconvert_exporter": "python",
   "pygments_lexer": "ipython3",
   "version": "3.6.5"
  }
 },
 "nbformat": 4,
 "nbformat_minor": 2
}
