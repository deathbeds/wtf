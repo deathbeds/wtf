{
 "cells": [
  {
   "cell_type": "markdown",
   "metadata": {},
   "source": [
    "# Interactive Computing 👩‍🚀💻🤖 Modern Notebooks\n",
    "\n",
    "---\n",
    "\n",
    "Moving from the command line to the browser, modern notebooks provide a medium for crafting computational essays.\n",
    "\n",
    "---\n",
    "\n"
   ]
  },
  {
   "cell_type": "code",
   "execution_count": 1,
   "metadata": {},
   "outputs": [
    {
     "data": {
      "text/html": [
       "<style>\n",
       ".jp-RenderedHTMLCommon pre code {\n",
       "    opacity: 0.25;\n",
       "}\n",
       ".jp-RenderedHTMLCommon pre code:hover {\n",
       "    transition: opacity 0.2s;\n",
       "    opacity: 1;\n",
       "    \n",
       "}\n",
       ".jp-Placeholder-content .jp-MoreHorizIcon {\n",
       "    background-size: 32px;\n",
       "}\n",
       "\n",
       "@import url(\"https://cdn.jsdelivr.net/npm/firacode@1.205.0/distr/fira_code.css\")\n",
       "\n",
       ".CodeMirror * {\n",
       "  font-family: 'Fira Code' !important; \n",
       "  font-variant-ligatures: initial !important;\n",
       "}\n",
       "\n",
       ".cm-string {\n",
       "    font-variant-ligatures: none;\n",
       "}\n",
       "</style><style>\n",
       ".jp-mod-presentationMode .jp-SideBar,\n",
       ".jp-mod-presentationMode #jp-top-panel {\n",
       "    opacity: 0.0;\n",
       "    transition: all 0.2s;\n",
       "}\n",
       ".jp-mod-presentationMode .jp-SideBar:hover,\n",
       ".jp-mod-presentationMode #jp-top-panel:hover {\n",
       "    opacity: 0.9;\n",
       "    transition: all 0.2s;\n",
       "}\n",
       "\n",
       "</style><style>\n",
       ".jp-mod-presentationMode.jp-ApplicationShell,\n",
       ".jp-mod-presentationMode .p-TabBar-content{\n",
       "    background-color: var(--jp-layout-color0);\n",
       "}\n",
       "</style><style>\n",
       ".jp-mod-presentationMode .p-DockPanel-widget,\n",
       ".jp-mod-presentationMode #jp-left-stack{\n",
       "    border-color: transparent;\n",
       "}\n",
       ".jp-mod-presentationMode .jp-Toolbar-item,\n",
       ".jp-mod-presentationMode .jp-Toolbar {\n",
       "    opacity: 0.1;\n",
       "    transition: all 0.2s;\n",
       "}\n",
       ".jp-mod-presentationMode .jp-Toolbar-item:hover,\n",
       ".jp-mod-presentationMode .jp-Toolbar:hover {\n",
       "    opacity: 0.9;\n",
       "    transition: all 0.2s;\n",
       "}\n",
       "\n",
       "</style><style>\n",
       ".jp-mod-presentationMode .jp-OutputPrompt,\n",
       ".jp-mod-presentationMode .jp-InputPrompt {\n",
       "    max-width: 2rem !important;\n",
       "    transition: all 0.2s;\n",
       "}\n",
       ".jp-mod-presentationMode .jp-Cell.jp-mod-selected .jp-OutputPrompt,\n",
       ".jp-mod-presentationMode .jp-Cell.jp-mod-selected .jp-InputPrompt,\n",
       ".jp-mod-presentationMode .jp-Cell:hover .jp-OutputPrompt,\n",
       ".jp-mod-presentationMode .jp-Cell:hover .jp-InputPrompt {\n",
       "    max-width: 10rem !important;\n",
       "    transition: all 0.2s;\n",
       "}\n",
       "\n",
       ".jp-mod-presentationMode .jp-Cell {\n",
       "    margin-bottom: 5rem;\n",
       "}\n",
       "\n",
       ".jp-mod-presentationMode hr {\n",
       "    opacity: 0.1;\n",
       "}\n",
       "</style>\n",
       "    <style>\n",
       "    .jp-TableOfContents-content h1, \n",
       "    .jp-TableOfContents-content h2 {\n",
       "        margin-bottom: var(--jp-ui-font-size0)\n",
       "    }\n",
       "    </style>\n",
       "    \n",
       "    <style>\n",
       "    .jp-mod-presentationMode {\n",
       "        --jp-content-heading-line-height: 1.25 !important;\n",
       "    }\n",
       "    </style>\n",
       "    "
      ],
      "text/plain": [
       "<IPython.core.display.HTML object>"
      ]
     },
     "metadata": {},
     "output_type": "display_data"
    }
   ],
   "source": [
    "with __import__('importnb').Notebook():\n",
    "    from utils import *; \n",
    "    "
   ]
  },
  {
   "cell_type": "code",
   "execution_count": 2,
   "metadata": {},
   "outputs": [
    {
     "data": {
      "application/vnd.jupyter.widget-view+json": {
       "model_id": "83543cc53ad84929b8717ab815f03e0f",
       "version_major": 2,
       "version_minor": 0
      },
      "text/plain": [
       "VBox(children=(Box(children=(Output(layout=Layout(display='flex', flex='1', min_width='200px')), Output(layout…"
      ]
     },
     "metadata": {},
     "output_type": "display_data"
    }
   ],
   "source": [
    "\"\"\"- - |\n",
    "        ### [\"Literate computing\" and computational reproducibility: IPython in the age of data-driven journalism](http://blog.fperez.org/2013/04/literate-computing-and-computational.html)\n",
    "  - 'graph {rankdir=\"LR\"; data--science--computing--data subgraph cluster_science {science label=\"modern\\nfolk lore\"}}'\n",
    "  \n",
    "- - |\n",
    "        > Our job with Jupyter~~IPython~~ is to think deeply about questions regarding the intersection of _**computing, data and science**_, but it's clear to me at this point that we can contribute in contexts beyond pure scientific research. I hope we'll be able to provide folks who have a _**direct intersection with the public**_, such as journalists, with tools that help a more informed and productive debate.\n",
    "        > - [Fernando Perez](http://github.com/fperez)\"\"\""
   ]
  },
  {
   "cell_type": "markdown",
   "metadata": {},
   "source": [
    "<hr/><hr/>"
   ]
  },
  {
   "cell_type": "code",
   "execution_count": 3,
   "metadata": {},
   "outputs": [
    {
     "data": {
      "application/vnd.jupyter.widget-view+json": {
       "model_id": "e4ad0a86b37c4afca11d3ace0f68014e",
       "version_major": 2,
       "version_minor": 0
      },
      "text/plain": [
       "VBox(children=(Box(children=(Output(layout=Layout(display='flex', flex='1', min_width='200px')), Output(layout…"
      ]
     },
     "metadata": {},
     "output_type": "display_data"
    }
   ],
   "source": [
    "\"\"\"- -     digraph {}\n",
    "  -     digraph {Literacy -> {Textual Computational}}\n",
    "  -     digraph {}\n",
    "\n",
    "- - text/html: {src: \"http://blog.stephenwolfram.com/2017/11/what-is-a-computational-essay/\", width: 600, height: 600}\n",
    "  - |\n",
    "    > #### There are basically three kinds of things here. First, ordinary text (here in English). Second, computer input. And third, computer output. And the crucial point is that these all work together to express what’s being communicated.\n",
    "    \n",
    "    > ### The ordinary text gives context and motivation. The computer input gives a precise specification of what’s being talked about. And then the computer output delivers facts and results, often in graphical form. It’s a powerful form of exposition that combines computational thinking on the part of the human author with computational knowledge and computational processing from the computer.\n",
    "    \n",
    "    --- \n",
    "    > ### Professionals of the future will routinely deliver results and reports as computational essays. Educators will routinely explain concepts using computational essays. Students will routinely produce computational essays as homework for their classes.\n",
    "    \n",
    "    >> * [Stephen Wolfram](http://blog.stephenwolfram.com/2017/11/what-is-a-computational-essay/)\n",
    "    \n",
    "- - >\n",
    "    > ## It’s a powerful form of exposition that combines computational thinking on the part \n",
    "    of the human author with computational knowledge and computational processing from the computer.    \n",
    "\"\"\""
   ]
  },
  {
   "cell_type": "code",
   "execution_count": 8,
   "metadata": {},
   "outputs": [
    {
     "data": {
      "application/vnd.jupyter.widget-view+json": {
       "model_id": "5d7a1209a3d14384af229c1c6c514f1c",
       "version_major": 2,
       "version_minor": 0
      },
      "text/plain": [
       "VBox(children=(Box(children=(Output(layout=Layout(display='flex', flex='1', min_width='200px')), Output(layout…"
      ]
     },
     "metadata": {},
     "output_type": "display_data"
    }
   ],
   "source": [
    "\"\"\"- - \"# Computational essays are a conversation between a human and computer\"\n",
    "  - graph {computer -- human [style=dotted] human -- input computer -- {compute output}\n",
    "      narrative -- input media -- output {narrative compute media} -- notebooks -- {blogs pdf source markdown html presentation}\n",
    "        subgraph cluster_nb {narrative compute media label=\"Computational Essays\"}}\n",
    "  \"\"\""
   ]
  },
  {
   "cell_type": "markdown",
   "metadata": {},
   "source": [
    "---\n",
    "---\n",
    "---\n",
    "---\n",
    "---\n",
    "---\n",
    "---\n",
    "---\n",
    "---\n",
    "\n",
    "\n",
    "# [Jupyterlab](https://github.com/jupyterlab/jupyterlab) and [notebooks](https://github.com/jupyter/notebook) are applications that allow authors to compose computational essays.\n",
    "\n",
    "* ## [Markdown Cells](http://jupyter-notebook.readthedocs.io/en/stable/examples/Notebook/Working%20With%20Markdown%20Cells.html)\n",
    "* ## [Code Cells](http://jupyter-notebook.readthedocs.io/en/stable/examples/Notebook/Running%20Code.html)\n",
    "* ## [Rich Display](http://ipython.readthedocs.io/en/stable/api/generated/IPython.display.html)\n",
    "\n",
    "    * #### [Jupyter Renderers](https://mybinder.org/v2/gh/jupyterlab/jupyter-renderers/master?urlpath=lab/tree/notebooks)\n",
    "\n",
    "---\n",
    "\n",
    "> Jupyter provides its own key-bindings that make programming feel like a video game.\n",
    "\n",
    "> #### Let's demonstrate some examples."
   ]
  },
  {
   "cell_type": "code",
   "execution_count": 18,
   "metadata": {},
   "outputs": [
    {
     "data": {
      "application/vnd.jupyter.widget-view+json": {
       "model_id": "df25d8f6e4ee4beab716e81f32ad86a1",
       "version_major": 2,
       "version_minor": 0
      },
      "text/plain": [
       "VBox(children=(Box(children=(Output(layout=Layout(display='flex', flex='1', min_width='200px')), Output(layout…"
      ]
     },
     "metadata": {},
     "output_type": "display_data"
    }
   ],
   "source": [
    "\"\"\"- - text/html: https://nteract.io\n",
    "  - text/html: http://jupyterlab.readthedocs.io\n",
    "- - |\n",
    "    [colab](https://colab.research.google.com/notebooks/welcome.ipynb#recent=true)\n",
    "\"\"\""
   ]
  },
  {
   "cell_type": "code",
   "execution_count": null,
   "metadata": {},
   "outputs": [],
   "source": []
  },
  {
   "cell_type": "markdown",
   "metadata": {},
   "source": [
    "# Notebooks are saved as data.\n",
    "\n",
    "Notebooks are saved in a json format that makes them widely reusable by many programming languages."
   ]
  },
  {
   "cell_type": "markdown",
   "metadata": {},
   "source": [
    "    import json\n",
    "    with open('1_interactive.ipynb', 'rb') as file:\n",
    "        assert json.load(file)"
   ]
  },
  {
   "cell_type": "markdown",
   "metadata": {},
   "source": [
    "## [ipywidgets](https://ipywidgets.readthedocs.io/)\n",
    "\n",
    "We import [a widget from our sample notebook project](test_notebook.ipynb#ipywidget). In this example we consider a collection of notebooks to be dataframe."
   ]
  },
  {
   "cell_type": "markdown",
   "metadata": {},
   "source": [
    "    with Notebook():\n",
    "        import test_notebook_dir as nb\n",
    "    nb.create_query_widget()"
   ]
  },
  {
   "cell_type": "markdown",
   "metadata": {},
   "source": [
    "# Static documents with [nbconvert](http://nbconvert.readthedocs.io/en/latest/config_options.html)\n",
    "\n",
    "Uses [jinja2](http://jinja.pocoo.org/docs/2.10/api/) to template __markdown__ and __code__ cells into other string formats."
   ]
  },
  {
   "cell_type": "code",
   "execution_count": 33,
   "metadata": {},
   "outputs": [
    {
     "name": "stderr",
     "output_type": "stream",
     "text": [
      "[NbConvertApp] Converting notebook 1_interactive.ipynb to html\n",
      "[NbConvertApp] Writing 277440 bytes to 1_interactive.html\n"
     ]
    }
   ],
   "source": [
    "    #The exclamation point runs a command line statement.\n",
    "    !jupyter nbconvert --to html 1_interactive.ipynb"
   ]
  },
  {
   "cell_type": "code",
   "execution_count": 32,
   "metadata": {},
   "outputs": [
    {
     "name": "stdout",
     "output_type": "stream",
     "text": [
      "Overwriting jupyter_nbconvert_config.py\n"
     ]
    }
   ],
   "source": [
    "    %%file jupyter_nbconvert_config.py\n",
    "    # c.TemplateExporter.exclude_input = True"
   ]
  },
  {
   "cell_type": "code",
   "execution_count": 34,
   "metadata": {},
   "outputs": [
    {
     "data": {
      "application/vnd.jupyter.widget-view+json": {
       "model_id": "66a8924c9b4a4b1ba6c08a28c4b62884",
       "version_major": 2,
       "version_minor": 0
      },
      "text/plain": [
       "VBox(children=(Box(children=(Output(layout=Layout(display='flex', flex='1', min_width='200px')),), layout=Layo…"
      ]
     },
     "metadata": {},
     "output_type": "display_data"
    }
   ],
   "source": [
    "    \"\"\"- 1_interactive.html\"\"\""
   ]
  },
  {
   "cell_type": "markdown",
   "metadata": {},
   "source": [
    "## Readability always counts!"
   ]
  },
  {
   "cell_type": "markdown",
   "metadata": {},
   "source": [
    "    import this"
   ]
  },
  {
   "cell_type": "code",
   "execution_count": 36,
   "metadata": {},
   "outputs": [
    {
     "data": {
      "application/vnd.jupyter.widget-view+json": {
       "model_id": "ec6f2d80f6774a22957f147a5b22827f",
       "version_major": 2,
       "version_minor": 0
      },
      "text/plain": [
       "VBox(children=(Box(children=(Output(layout=Layout(display='flex', flex='1', min_width='200px')), Output(layout…"
      ]
     },
     "metadata": {},
     "output_type": "display_data"
    }
   ],
   "source": [
    "\"\"\"- |\n",
    "    digraph {\n",
    "        Literacy -> {\n",
    "            Textual Computational\n",
    "        }\n",
    "        Textual -> {Markdown Latex}\n",
    "        subgraph cluster_repl {\n",
    "            label=\"REPL\"\n",
    "            read -> evaluate -> print print -> read [label=\"loop\n",
    "            \n",
    "    [interact]\"]}\n",
    "        Computational->read\n",
    "        evaluate -> test read -> documentation print -> display\n",
    "        display -> {HTML Images Videos Sound Maps \"...\"}\n",
    "        }\n",
    "\n",
    "- |\n",
    "    ---\n",
    "    ---\n",
    "\n",
    "    > # _Sometimes I think the only universal in the computing field is the fetch-execute cycle._\n",
    "    > - [Alan Perlis](http://www.cs.yale.edu/homes/perlis-alan/quotes.html)\n",
    "\"\"\"\n",
    "\n"
   ]
  },
  {
   "cell_type": "code",
   "execution_count": 6,
   "metadata": {},
   "outputs": [
    {
     "data": {
      "application/vnd.jupyter.widget-view+json": {
       "model_id": "bfc494e9e3e946f3aac43599386081d5",
       "version_major": 2,
       "version_minor": 0
      },
      "text/plain": [
       "VBox(children=(Box(children=(Output(layout=Layout(display='flex', flex='1', min_width='200px')), Output(layout…"
      ]
     },
     "metadata": {},
     "output_type": "display_data"
    }
   ],
   "source": [
    "\"\"\"- - > \n",
    "    # _... surely nobody wants to admit writing an illiterate program._\n",
    "\n",
    "    ## [Donald Knuth](https://en.wikipedia.org/wiki/Donald_Knuth) - [Literate Programming](http://roxygen.org/knuth-literate-programming.pdf)\n",
    "\n",
    "  - |\n",
    "    # A good computational essay\n",
    "\n",
    "    ### Includes a narrative with clear communication.\n",
    "    ### Focuses on human readability and machine reproducibility.\n",
    "    ### Will contain readable code when possible.\n",
    "    ### May have many authors with different strengths.\n",
    "    ### Does not often value code.\"\"\""
   ]
  },
  {
   "cell_type": "markdown",
   "metadata": {},
   "source": [
    "<hr/><hr/><hr/><hr/><hr/><hr/>\n",
    "\n",
    "# Hypothesis testing and the scientific method\n",
    "\n",
    "1. ### Define a question\n",
    "1. ### Gather information and resources\n",
    "1. ### Form an explanatory hypothesis\n",
    "1. ### Test the hypothesis by performing an experiment and collecting data in a reproducible manner\n",
    "1. ### Analyze the data\n",
    "1. ### Interpret the data and draw conclusions that serve as a starting point for new hypothesis\n",
    "1. ### Publish results\n",
    "1. ### Retest"
   ]
  },
  {
   "cell_type": "code",
   "execution_count": 7,
   "metadata": {},
   "outputs": [
    {
     "data": {
      "image/jpeg": "[encoded data removed]",
      "text/html": [
       "\n",
       "        <iframe\n",
       "            width=\"400\"\n",
       "            height=\"300\"\n",
       "            src=\"https://www.youtube.com/embed/mT8BkceFU40?autostart=30\"\n",
       "            frameborder=\"0\"\n",
       "            allowfullscreen\n",
       "        ></iframe>\n",
       "        "
      ],
      "text/plain": [
       "<IPython.lib.display.YouTubeVideo at 0x18055588358>"
      ]
     },
     "metadata": {},
     "output_type": "display_data"
    },
    {
     "data": {
      "image/jpeg": "[encoded data removed]",
      "text/html": [
       "\n",
       "        <iframe\n",
       "            width=\"400\"\n",
       "            height=\"300\"\n",
       "            src=\"https://www.youtube.com/embed/7YAu0-1l4JQ?autostart=30\"\n",
       "            frameborder=\"0\"\n",
       "            allowfullscreen\n",
       "        ></iframe>\n",
       "        "
      ],
      "text/plain": [
       "<IPython.lib.display.YouTubeVideo at 0x18055588470>"
      ]
     },
     "metadata": {},
     "output_type": "display_data"
    }
   ],
   "source": [
    "λ.str.split().map(λ.IPython.display.YouTubeVideo(width=400, height=300, autostart=30)).list()[star(λ.IPython.display.display())](\"\"\"mT8BkceFU40 7YAu0-1l4JQ\"\"\")"
   ]
  },
  {
   "cell_type": "markdown",
   "metadata": {},
   "source": [
    "# Notebooks are commonly ~~re~~used to test ideas [computational hypotheses]\n",
    "\n",
    "Failing doesn't hurt as much."
   ]
  },
  {
   "cell_type": "markdown",
   "metadata": {},
   "source": [
    "<hr/><hr/><hr/><hr/><hr/><hr/><hr/><hr/><hr/><hr/><hr/><hr/><hr/><hr/><hr/>\n",
    "\n",
    "## Audience Poll?\n",
    "\n",
    "* ### Who uses notebooks to test ideas or data?\n",
    "* ### Who rewrites their notebooks in actual source directories.\n",
    "* ### Who writes notebooks with the intent of using them again?\n",
    "\n",
    "<hr/><hr/><hr/><hr/><hr/><hr/><hr/><hr/><hr/><hr/><hr/><hr/><hr/><hr/><hr/>"
   ]
  },
  {
   "cell_type": "markdown",
   "metadata": {},
   "source": [
    "# [Exploration and Explanation in Computational Notebooks](https://github.com/activityhistory/jupyter_on_github)\n",
    "\n",
    "> Finally, the exploratory and iterative nature of data analysis is reflected in the fact that nearly half (43.9%) of notebooks were uploaded to GitHub with a non-linear execution order. This means that analysts went back and re-ran earlier cells, rather than just linearly writing and executing code. This figure should be considered as a lower-bound as analysts may have done a clean run of their notebook before sharing it online. \n",
    "\n",
    "### [We Analyzed 1 Million Jupyter Notebooks — Now You Can Too](https://blog.jupyter.org/we-analyzed-1-million-jupyter-notebooks-now-you-can-too-guest-post-8116a964b536)\n"
   ]
  },
  {
   "cell_type": "markdown",
   "metadata": {},
   "source": [
    "---\n",
    "\n",
    "# The scientific method in computational essays.\n",
    "\n",
    "* ## Is read before it's computed.\n",
    "* ## Will present more information than code and essays alone.\n",
    "* ## Includes a narrative with clear communication.\n",
    "* ## Should be useful in a conversation\n",
    "* ## Focuses on human readability and machine reproducibility.\n",
    "* ## *Will restart and run all*.\n",
    "* ## *Has an expiration date.*"
   ]
  },
  {
   "cell_type": "markdown",
   "metadata": {},
   "source": [
    "## [Notebooks 🤛](0_notebooks.ipynb) 🤖 [🤜 Testing](2_testing.ipynb)"
   ]
  },
  {
   "cell_type": "markdown",
   "metadata": {},
   "source": [
    "---\n",
    "---\n",
    "\n",
    "# Extras\n",
    "\n",
    "## The best styleguide for computational essays.\n",
    "\n",
    "### [Paco Nathan - _What we learned teaching with notebooks._](http://nbviewer.jupyter.org/github/jupyterday-atlanta-2016/oriole_jupyterday_atl/blob/master/oriole_talk.ipynb#What-we-learned-about-teaching-with-notebooks)"
   ]
  }
 ],
 "metadata": {
  "kernelspec": {
   "display_name": "Python 3",
   "language": "python",
   "name": "python3"
  },
  "language_info": {
   "codemirror_mode": {
    "name": "ipython",
    "version": 3
   },
   "file_extension": ".py",
   "mimetype": "text/x-python",
   "name": "python",
   "nbconvert_exporter": "python",
   "pygments_lexer": "ipython3",
   "version": "3.6.5"
  }
 },
 "nbformat": 4,
 "nbformat_minor": 2
}
