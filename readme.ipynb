{
 "cells": [
  {
   "cell_type": "markdown",
   "metadata": {},
   "source": [
    "# A Notebook is a Hypothesis\n",
    "\n",
    "---\n",
    "\n",
    "## An interactive computing performance from [deathbeds](https://github.com/deathbeds/importnb)\n",
    "\n",
    "---"
   ]
  },
  {
   "cell_type": "markdown",
   "metadata": {},
   "source": [
    "1. ### [The impacts of physical and computational notebooks on science.](0_notebooks.ipynb)\n",
    "2. ### [The lifecycle of hypothesis testing & interactive computing in Jupyter notebooks.](1_interactive.ipynb)\n",
    "3. ### [Preserving computational essays for reuse.](2_testing.ipynb)"
   ]
  },
  {
   "cell_type": "markdown",
   "metadata": {},
   "source": [
    " ---\n",
    "\n",
    "# Takeaways\n",
    "\n",
    "* ### [Computational essays take parts from literacy and programming to tell data driven stories.](http://blog.stephenwolfram.com/2017/11/what-is-a-computational-essay/).\n",
    "* ### Best practices for maturing notebooks into computational essays.\n",
    "* ### Formal software testing practices to extend the __sell by date__ of a notebook.\n",
    "* ### All of the artifacts of this presentation and to explore later."
   ]
  },
  {
   "cell_type": "markdown",
   "metadata": {},
   "source": [
    "---\n",
    "\n",
    "# Links to this presentation.\n",
    "\n",
    "[github](https://github.com/deathbeds/importnb/blob/master/readme.ipynb) | [nbviewer](http://nbviewer.jupyter.org/github/deathbeds/wtf/blob/master/readme.ipynb)\n",
    "\n",
    "Code along with binder.\n",
    "\n",
    "[![Binder](https://mybinder.org/badge.svg)](https://mybinder.org/v2/gh/deathbeds/wtf/master?filepath=readme.ipynb)\n"
   ]
  },
  {
   "cell_type": "markdown",
   "metadata": {},
   "source": [
    "---\n",
    "\n",
    "## Resources for new notebook users.\n",
    "\n",
    "* ### [Jupyter/IPython Notebook Quick Start Guide](http://jupyter-notebook-beginner-guide.readthedocs.io/en/latest/)\n",
    "* ### [Try Jupyterlab](https://mybinder.org/v2/gh/jupyterlab/jupyterlab-demo/18a9793b58ba86660b5ab964e1aeaf7324d667c8?urlpath=lab%2Ftree%2Fdemo%2FLorenz.ipynb)\n",
    "* ### [A gallery of interesting Jupyter Notebooks](https://github.com/jupyter/jupyter/wiki/A-gallery-of-interesting-Jupyter-Notebooks)"
   ]
  },
  {
   "cell_type": "markdown",
   "metadata": {},
   "source": [
    "## Useful packages for advanced notebooks users\n",
    "\n",
    "* ### [importnb](https://github.com/deathbeds/importnb/tree/master/src/importnb)\n",
    "* ### [doctest](https://docs.python.org/3/library/doctest.html)\n",
    "* ### [pytest](https://docs.pytest.org/en/latest/customize.html)\n",
    "* ### [mybinder](https://mybinder.org/)\n",
    "* ### [nbviewer](http://nbviewer.jupyter.org/)\n",
    "* ### [nbconvert](https://github.com/jupyter/nbconvert/tree/master/nbconvert/exporters)\n",
    "* ### [jupyterlab](https://github.com/jupyterlab/jupyterlab/issues/2369)\n",
    "* ### [graphviz](http://graphviz.readthedocs.io/en/stable/manual.html) _for diagrams._\n",
    "\n",
    "## Resources for advanced users\n",
    "\n",
    "* ### [Integrating IPython/Jupyter with your objects](http://ipython.readthedocs.io/en/stable/config/integrating.html)\n",
    "* ### Learn deep learning in [fast.ai](http://www.fast.ai/) notebooks."
   ]
  },
  {
   "cell_type": "markdown",
   "metadata": {},
   "source": [
    "# Deathbeds\n",
    "\n",
    "Deathbeds is open source coding collective experimenting with interactive computing and modern science.\n",
    "\n",
    "* ### [Jyve](https://deathbeds.github.io/jyve/lab/)\n",
    "\n",
    "    Jupyterlab if pure javascript.\n",
    "    \n",
    "* ### [importnb](https://github.com/deathbeds/importnb/tree/master/src/importnb)\n",
    "\n",
    "    Use notebooks like real modules.\n",
    "\n",
    "* ### [poser](https://github.com/deathbeds/poser)\n",
    "\n",
    "    A fluent API for python."
   ]
  },
  {
   "cell_type": "code",
   "execution_count": 1,
   "metadata": {},
   "outputs": [
    {
     "name": "stderr",
     "output_type": "stream",
     "text": [
      "[NbConvertApp] Converting notebook readme.ipynb to markdown\n",
      "[NbConvertApp] Writing 3530 bytes to readme.md\n"
     ]
    }
   ],
   "source": [
    "    if __name__ == '__main__':\n",
    "        !jupyter nbconvert --to markdown readme.ipynb"
   ]
  },
  {
   "cell_type": "code",
   "execution_count": null,
   "metadata": {},
   "outputs": [
    {
     "name": "stdout",
     "output_type": "stream",
     "text": [
      "============================ test session starts =============================\n",
      "platform darwin -- Python 3.6.3, pytest-3.5.0, py-1.5.3, pluggy-0.6.0\n",
      "benchmark: 3.1.1 (defaults: timer=time.perf_counter disable_gc=False min_rounds=5 min_time=0.000005 max_time=1.0 calibration_precision=10 warmup=False warmup_iterations=100000)\n",
      "rootdir: /Users/tonyfast/_what_is_a_hypothesis, inifile:\n",
      "plugins: cov-2.5.1, benchmark-3.1.1, hypothesis-3.56.5, importnb-0.3.1\n"
     ]
    }
   ],
   "source": [
    "    if __name__ == '__main__':\n",
    "        import pytest\n",
    "        pytest.main([])"
   ]
  }
 ],
 "metadata": {
  "kernelspec": {
   "display_name": "Python 3",
   "language": "python",
   "name": "python3"
  },
  "language_info": {
   "codemirror_mode": {
    "name": "ipython",
    "version": 3
   },
   "file_extension": ".py",
   "mimetype": "text/x-python",
   "name": "python",
   "nbconvert_exporter": "python",
   "pygments_lexer": "ipython3",
   "version": "3.6.5"
  }
 },
 "nbformat": 4,
 "nbformat_minor": 2
}
